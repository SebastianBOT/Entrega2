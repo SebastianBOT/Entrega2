{
  "cells": [
    {
      "cell_type": "markdown",
      "metadata": {
        "id": "tV_qjvMl-1nm"
      },
      "source": [
        "\n",
        "\n",
        "---\n",
        "\n",
        "\n",
        "IMPORTAR DATOS Y ANALIZARLOS\n",
        "\n",
        "\n",
        "---\n",
        "\n"
      ]
    },
    {
      "cell_type": "code",
      "execution_count": null,
      "metadata": {
        "id": "xU71EXqf3Bkq"
      },
      "outputs": [],
      "source": [
        "import pandas as pd"
      ]
    },
    {
      "cell_type": "code",
      "execution_count": null,
      "metadata": {
        "colab": {
          "base_uri": "https://localhost:8080/"
        },
        "id": "TtwBjYzaitZr",
        "outputId": "bc948614-5aba-4a49-fc0c-639b484f5055"
      },
      "outputs": [
        {
          "output_type": "stream",
          "name": "stderr",
          "text": [
            "<ipython-input-4-7e5b94b2d155>:1: DtypeWarning: Columns (0,18,20) have mixed types. Specify dtype option on import or set low_memory=False.\n",
            "  df = pd.read_csv('/content/drive/MyDrive/Colab Notebooks/NYPD_Complaint_Data_Historic.csv', skiprows=lambda x: x % 2 != 0)\n"
          ]
        }
      ],
      "source": [
        "df = pd.read_csv('/content/drive/MyDrive/Colab Notebooks/NYPD_Complaint_Data_Historic.csv', skiprows=lambda x: x % 2 != 0)"
      ]
    },
    {
      "cell_type": "code",
      "source": [
        "# Reducción mediante muestreo aleatorio\n",
        "tamaño_objetivo = 1000000\n",
        "if len(df) > tamaño_objetivo:\n",
        "    df = df.sample(n=tamaño_objetivo, random_state=42)"
      ],
      "metadata": {
        "id": "Z5Kj6gCPsWQc"
      },
      "execution_count": null,
      "outputs": []
    },
    {
      "cell_type": "markdown",
      "metadata": {
        "id": "bfPOL_fwHjOC"
      },
      "source": [
        "# Nueva sección"
      ]
    },
    {
      "cell_type": "code",
      "execution_count": null,
      "metadata": {
        "colab": {
          "base_uri": "https://localhost:8080/"
        },
        "id": "FQE-yGObHqAD",
        "outputId": "212954a8-84f9-4df5-c169-3feb2ddba5c3"
      },
      "outputs": [
        {
          "output_type": "stream",
          "name": "stdout",
          "text": [
            "Mounted at /content/drive\n"
          ]
        }
      ],
      "source": [
        "from google.colab import drive\n",
        "drive.mount('/content/drive')"
      ]
    },
    {
      "cell_type": "code",
      "source": [
        "df.info()"
      ],
      "metadata": {
        "colab": {
          "base_uri": "https://localhost:8080/"
        },
        "id": "M69wH5hEP-Ze",
        "outputId": "48621b1e-146e-43dd-f357-97b5b6794a74"
      },
      "execution_count": null,
      "outputs": [
        {
          "output_type": "stream",
          "name": "stdout",
          "text": [
            "<class 'pandas.core.frame.DataFrame'>\n",
            "Int64Index: 1000000 entries, 4093267 to 1446816\n",
            "Data columns (total 40 columns):\n",
            " #   Column                  Non-Null Count    Dtype  \n",
            "---  ------                  --------------    -----  \n",
            " 0   CMPLNT_NUM              1000000 non-null  object \n",
            " 1   CMPLNT_FR_DT            999911 non-null   object \n",
            " 2   CMPLNT_FR_TM            999993 non-null   object \n",
            " 3   CMPLNT_TO_DT            786670 non-null   object \n",
            " 4   CMPLNT_TO_TM            791928 non-null   object \n",
            " 5   ADDR_PCT_CD             999727 non-null   float64\n",
            " 6   RPT_DT                  1000000 non-null  object \n",
            " 7   KY_CD                   1000000 non-null  int64  \n",
            " 8   OFNS_DESC               997800 non-null   object \n",
            " 9   PD_CD                   999137 non-null   float64\n",
            " 10  PD_DESC                 999203 non-null   object \n",
            " 11  CRM_ATPT_CPTD_CD        999977 non-null   object \n",
            " 12  LAW_CAT_CD              1000000 non-null  object \n",
            " 13  BORO_NM                 998549 non-null   object \n",
            " 14  LOC_OF_OCCUR_DESC       807011 non-null   object \n",
            " 15  PREM_TYP_DESC           994963 non-null   object \n",
            " 16  JURIS_DESC              1000000 non-null  object \n",
            " 17  JURISDICTION_CODE       999203 non-null   float64\n",
            " 18  PARKS_NM                67366 non-null    object \n",
            " 19  HADEVELOPT              105631 non-null   object \n",
            " 20  HOUSING_PSA             135526 non-null   object \n",
            " 21  X_COORD_CD              997876 non-null   float64\n",
            " 22  Y_COORD_CD              997876 non-null   float64\n",
            " 23  SUSP_AGE_GROUP          415731 non-null   object \n",
            " 24  SUSP_RACE               579310 non-null   object \n",
            " 25  SUSP_SEX                563545 non-null   object \n",
            " 26  TRANSIT_DISTRICT        21918 non-null    float64\n",
            " 27  Latitude                997876 non-null   float64\n",
            " 28  Longitude               997876 non-null   float64\n",
            " 29  Lat_Lon                 997876 non-null   object \n",
            " 30  PATROL_BORO             999140 non-null   object \n",
            " 31  STATION_NAME            84253 non-null    object \n",
            " 32  VIC_AGE_GROUP           803657 non-null   object \n",
            " 33  VIC_RACE                999951 non-null   object \n",
            " 34  VIC_SEX                 999961 non-null   object \n",
            " 35  Zip Codes               995171 non-null   float64\n",
            " 36  Community Districts     997782 non-null   float64\n",
            " 37  Borough Boundaries      997784 non-null   float64\n",
            " 38  City Council Districts  997782 non-null   float64\n",
            " 39  Police Precincts        997779 non-null   float64\n",
            "dtypes: float64(13), int64(1), object(26)\n",
            "memory usage: 312.8+ MB\n"
          ]
        }
      ]
    },
    {
      "cell_type": "code",
      "execution_count": null,
      "metadata": {
        "colab": {
          "base_uri": "https://localhost:8080/"
        },
        "id": "vxx0F8G96jbA",
        "outputId": "f7428853-7d53-4568-87a6-c4678db743f5"
      },
      "outputs": [
        {
          "output_type": "stream",
          "name": "stdout",
          "text": [
            "Observations:  1000000\n",
            "Variables:  40\n"
          ]
        }
      ],
      "source": [
        "print(\"Observations: \", df.shape[0])\n",
        "print(\"Variables: \", df.shape[1])"
      ]
    },
    {
      "cell_type": "code",
      "execution_count": null,
      "metadata": {
        "colab": {
          "base_uri": "https://localhost:8080/",
          "height": 508
        },
        "id": "__WpWL8i6wd4",
        "outputId": "b8b1ba74-aa56-43c3-f754-2d13c9561251"
      },
      "outputs": [
        {
          "output_type": "execute_result",
          "data": {
            "text/plain": [
              "        CMPLNT_NUM CMPLNT_FR_DT CMPLNT_FR_TM CMPLNT_TO_DT CMPLNT_TO_TM  \\\n",
              "4093267  193505344   04/26/2013     17:00:00   04/26/2013     17:10:00   \n",
              "2447351  935848790   06/26/2013     12:00:00   06/26/2013     12:00:00   \n",
              "63208    242577388   03/24/2022     16:35:00   03/24/2022     16:39:00   \n",
              "3729076  311492419   12/29/2007     00:30:00   12/29/2007     01:00:00   \n",
              "1967399  998353035   07/30/2018     09:00:00   07/30/2018     17:00:00   \n",
              "\n",
              "         ADDR_PCT_CD      RPT_DT  KY_CD                       OFNS_DESC  \\\n",
              "4093267         46.0  04/26/2013    344    ASSAULT 3 & RELATED OFFENSES   \n",
              "2447351         19.0  07/01/2013    340                          FRAUDS   \n",
              "63208           14.0  03/24/2022    113                         FORGERY   \n",
              "3729076         43.0  12/29/2007    347  INTOXICATED & IMPAIRED DRIVING   \n",
              "1967399         20.0  09/06/2018    340                          FRAUDS   \n",
              "\n",
              "         PD_CD  ...            PATROL_BORO STATION_NAME VIC_AGE_GROUP  \\\n",
              "4093267  101.0  ...      PATROL BORO BRONX          NaN         45-64   \n",
              "2447351  718.0  ...  PATROL BORO MAN NORTH          NaN           65+   \n",
              "63208    729.0  ...  PATROL BORO MAN SOUTH    42 STREET       UNKNOWN   \n",
              "3729076  905.0  ...      PATROL BORO BRONX          NaN           NaN   \n",
              "1967399  718.0  ...  PATROL BORO MAN NORTH          NaN           65+   \n",
              "\n",
              "               VIC_RACE VIC_SEX Zip Codes Community Districts  \\\n",
              "4093267  WHITE HISPANIC       F   10931.0                 6.0   \n",
              "2447351           WHITE       F   10092.0                23.0   \n",
              "63208           UNKNOWN       E   12080.0                12.0   \n",
              "3729076         UNKNOWN       E   11611.0                58.0   \n",
              "1967399           WHITE       F   12421.0                20.0   \n",
              "\n",
              "         Borough Boundaries City Council Districts Police Precincts  \n",
              "4093267                 5.0                   29.0             29.0  \n",
              "2447351                 4.0                    1.0             11.0  \n",
              "63208                   4.0                   10.0              8.0  \n",
              "3729076                 5.0                   31.0             26.0  \n",
              "1967399                 4.0                   19.0             15.0  \n",
              "\n",
              "[5 rows x 40 columns]"
            ],
            "text/html": [
              "\n",
              "  <div id=\"df-41ff447b-331c-4421-b3ff-e8cb7a082269\">\n",
              "    <div class=\"colab-df-container\">\n",
              "      <div>\n",
              "<style scoped>\n",
              "    .dataframe tbody tr th:only-of-type {\n",
              "        vertical-align: middle;\n",
              "    }\n",
              "\n",
              "    .dataframe tbody tr th {\n",
              "        vertical-align: top;\n",
              "    }\n",
              "\n",
              "    .dataframe thead th {\n",
              "        text-align: right;\n",
              "    }\n",
              "</style>\n",
              "<table border=\"1\" class=\"dataframe\">\n",
              "  <thead>\n",
              "    <tr style=\"text-align: right;\">\n",
              "      <th></th>\n",
              "      <th>CMPLNT_NUM</th>\n",
              "      <th>CMPLNT_FR_DT</th>\n",
              "      <th>CMPLNT_FR_TM</th>\n",
              "      <th>CMPLNT_TO_DT</th>\n",
              "      <th>CMPLNT_TO_TM</th>\n",
              "      <th>ADDR_PCT_CD</th>\n",
              "      <th>RPT_DT</th>\n",
              "      <th>KY_CD</th>\n",
              "      <th>OFNS_DESC</th>\n",
              "      <th>PD_CD</th>\n",
              "      <th>...</th>\n",
              "      <th>PATROL_BORO</th>\n",
              "      <th>STATION_NAME</th>\n",
              "      <th>VIC_AGE_GROUP</th>\n",
              "      <th>VIC_RACE</th>\n",
              "      <th>VIC_SEX</th>\n",
              "      <th>Zip Codes</th>\n",
              "      <th>Community Districts</th>\n",
              "      <th>Borough Boundaries</th>\n",
              "      <th>City Council Districts</th>\n",
              "      <th>Police Precincts</th>\n",
              "    </tr>\n",
              "  </thead>\n",
              "  <tbody>\n",
              "    <tr>\n",
              "      <th>4093267</th>\n",
              "      <td>193505344</td>\n",
              "      <td>04/26/2013</td>\n",
              "      <td>17:00:00</td>\n",
              "      <td>04/26/2013</td>\n",
              "      <td>17:10:00</td>\n",
              "      <td>46.0</td>\n",
              "      <td>04/26/2013</td>\n",
              "      <td>344</td>\n",
              "      <td>ASSAULT 3 &amp; RELATED OFFENSES</td>\n",
              "      <td>101.0</td>\n",
              "      <td>...</td>\n",
              "      <td>PATROL BORO BRONX</td>\n",
              "      <td>NaN</td>\n",
              "      <td>45-64</td>\n",
              "      <td>WHITE HISPANIC</td>\n",
              "      <td>F</td>\n",
              "      <td>10931.0</td>\n",
              "      <td>6.0</td>\n",
              "      <td>5.0</td>\n",
              "      <td>29.0</td>\n",
              "      <td>29.0</td>\n",
              "    </tr>\n",
              "    <tr>\n",
              "      <th>2447351</th>\n",
              "      <td>935848790</td>\n",
              "      <td>06/26/2013</td>\n",
              "      <td>12:00:00</td>\n",
              "      <td>06/26/2013</td>\n",
              "      <td>12:00:00</td>\n",
              "      <td>19.0</td>\n",
              "      <td>07/01/2013</td>\n",
              "      <td>340</td>\n",
              "      <td>FRAUDS</td>\n",
              "      <td>718.0</td>\n",
              "      <td>...</td>\n",
              "      <td>PATROL BORO MAN NORTH</td>\n",
              "      <td>NaN</td>\n",
              "      <td>65+</td>\n",
              "      <td>WHITE</td>\n",
              "      <td>F</td>\n",
              "      <td>10092.0</td>\n",
              "      <td>23.0</td>\n",
              "      <td>4.0</td>\n",
              "      <td>1.0</td>\n",
              "      <td>11.0</td>\n",
              "    </tr>\n",
              "    <tr>\n",
              "      <th>63208</th>\n",
              "      <td>242577388</td>\n",
              "      <td>03/24/2022</td>\n",
              "      <td>16:35:00</td>\n",
              "      <td>03/24/2022</td>\n",
              "      <td>16:39:00</td>\n",
              "      <td>14.0</td>\n",
              "      <td>03/24/2022</td>\n",
              "      <td>113</td>\n",
              "      <td>FORGERY</td>\n",
              "      <td>729.0</td>\n",
              "      <td>...</td>\n",
              "      <td>PATROL BORO MAN SOUTH</td>\n",
              "      <td>42 STREET</td>\n",
              "      <td>UNKNOWN</td>\n",
              "      <td>UNKNOWN</td>\n",
              "      <td>E</td>\n",
              "      <td>12080.0</td>\n",
              "      <td>12.0</td>\n",
              "      <td>4.0</td>\n",
              "      <td>10.0</td>\n",
              "      <td>8.0</td>\n",
              "    </tr>\n",
              "    <tr>\n",
              "      <th>3729076</th>\n",
              "      <td>311492419</td>\n",
              "      <td>12/29/2007</td>\n",
              "      <td>00:30:00</td>\n",
              "      <td>12/29/2007</td>\n",
              "      <td>01:00:00</td>\n",
              "      <td>43.0</td>\n",
              "      <td>12/29/2007</td>\n",
              "      <td>347</td>\n",
              "      <td>INTOXICATED &amp; IMPAIRED DRIVING</td>\n",
              "      <td>905.0</td>\n",
              "      <td>...</td>\n",
              "      <td>PATROL BORO BRONX</td>\n",
              "      <td>NaN</td>\n",
              "      <td>NaN</td>\n",
              "      <td>UNKNOWN</td>\n",
              "      <td>E</td>\n",
              "      <td>11611.0</td>\n",
              "      <td>58.0</td>\n",
              "      <td>5.0</td>\n",
              "      <td>31.0</td>\n",
              "      <td>26.0</td>\n",
              "    </tr>\n",
              "    <tr>\n",
              "      <th>1967399</th>\n",
              "      <td>998353035</td>\n",
              "      <td>07/30/2018</td>\n",
              "      <td>09:00:00</td>\n",
              "      <td>07/30/2018</td>\n",
              "      <td>17:00:00</td>\n",
              "      <td>20.0</td>\n",
              "      <td>09/06/2018</td>\n",
              "      <td>340</td>\n",
              "      <td>FRAUDS</td>\n",
              "      <td>718.0</td>\n",
              "      <td>...</td>\n",
              "      <td>PATROL BORO MAN NORTH</td>\n",
              "      <td>NaN</td>\n",
              "      <td>65+</td>\n",
              "      <td>WHITE</td>\n",
              "      <td>F</td>\n",
              "      <td>12421.0</td>\n",
              "      <td>20.0</td>\n",
              "      <td>4.0</td>\n",
              "      <td>19.0</td>\n",
              "      <td>15.0</td>\n",
              "    </tr>\n",
              "  </tbody>\n",
              "</table>\n",
              "<p>5 rows × 40 columns</p>\n",
              "</div>\n",
              "      <button class=\"colab-df-convert\" onclick=\"convertToInteractive('df-41ff447b-331c-4421-b3ff-e8cb7a082269')\"\n",
              "              title=\"Convert this dataframe to an interactive table.\"\n",
              "              style=\"display:none;\">\n",
              "        \n",
              "  <svg xmlns=\"http://www.w3.org/2000/svg\" height=\"24px\"viewBox=\"0 0 24 24\"\n",
              "       width=\"24px\">\n",
              "    <path d=\"M0 0h24v24H0V0z\" fill=\"none\"/>\n",
              "    <path d=\"M18.56 5.44l.94 2.06.94-2.06 2.06-.94-2.06-.94-.94-2.06-.94 2.06-2.06.94zm-11 1L8.5 8.5l.94-2.06 2.06-.94-2.06-.94L8.5 2.5l-.94 2.06-2.06.94zm10 10l.94 2.06.94-2.06 2.06-.94-2.06-.94-.94-2.06-.94 2.06-2.06.94z\"/><path d=\"M17.41 7.96l-1.37-1.37c-.4-.4-.92-.59-1.43-.59-.52 0-1.04.2-1.43.59L10.3 9.45l-7.72 7.72c-.78.78-.78 2.05 0 2.83L4 21.41c.39.39.9.59 1.41.59.51 0 1.02-.2 1.41-.59l7.78-7.78 2.81-2.81c.8-.78.8-2.07 0-2.86zM5.41 20L4 18.59l7.72-7.72 1.47 1.35L5.41 20z\"/>\n",
              "  </svg>\n",
              "      </button>\n",
              "      \n",
              "  <style>\n",
              "    .colab-df-container {\n",
              "      display:flex;\n",
              "      flex-wrap:wrap;\n",
              "      gap: 12px;\n",
              "    }\n",
              "\n",
              "    .colab-df-convert {\n",
              "      background-color: #E8F0FE;\n",
              "      border: none;\n",
              "      border-radius: 50%;\n",
              "      cursor: pointer;\n",
              "      display: none;\n",
              "      fill: #1967D2;\n",
              "      height: 32px;\n",
              "      padding: 0 0 0 0;\n",
              "      width: 32px;\n",
              "    }\n",
              "\n",
              "    .colab-df-convert:hover {\n",
              "      background-color: #E2EBFA;\n",
              "      box-shadow: 0px 1px 2px rgba(60, 64, 67, 0.3), 0px 1px 3px 1px rgba(60, 64, 67, 0.15);\n",
              "      fill: #174EA6;\n",
              "    }\n",
              "\n",
              "    [theme=dark] .colab-df-convert {\n",
              "      background-color: #3B4455;\n",
              "      fill: #D2E3FC;\n",
              "    }\n",
              "\n",
              "    [theme=dark] .colab-df-convert:hover {\n",
              "      background-color: #434B5C;\n",
              "      box-shadow: 0px 1px 3px 1px rgba(0, 0, 0, 0.15);\n",
              "      filter: drop-shadow(0px 1px 2px rgba(0, 0, 0, 0.3));\n",
              "      fill: #FFFFFF;\n",
              "    }\n",
              "  </style>\n",
              "\n",
              "      <script>\n",
              "        const buttonEl =\n",
              "          document.querySelector('#df-41ff447b-331c-4421-b3ff-e8cb7a082269 button.colab-df-convert');\n",
              "        buttonEl.style.display =\n",
              "          google.colab.kernel.accessAllowed ? 'block' : 'none';\n",
              "\n",
              "        async function convertToInteractive(key) {\n",
              "          const element = document.querySelector('#df-41ff447b-331c-4421-b3ff-e8cb7a082269');\n",
              "          const dataTable =\n",
              "            await google.colab.kernel.invokeFunction('convertToInteractive',\n",
              "                                                     [key], {});\n",
              "          if (!dataTable) return;\n",
              "\n",
              "          const docLinkHtml = 'Like what you see? Visit the ' +\n",
              "            '<a target=\"_blank\" href=https://colab.research.google.com/notebooks/data_table.ipynb>data table notebook</a>'\n",
              "            + ' to learn more about interactive tables.';\n",
              "          element.innerHTML = '';\n",
              "          dataTable['output_type'] = 'display_data';\n",
              "          await google.colab.output.renderOutput(dataTable, element);\n",
              "          const docLink = document.createElement('div');\n",
              "          docLink.innerHTML = docLinkHtml;\n",
              "          element.appendChild(docLink);\n",
              "        }\n",
              "      </script>\n",
              "    </div>\n",
              "  </div>\n",
              "  "
            ]
          },
          "metadata": {},
          "execution_count": 8
        }
      ],
      "source": [
        "df.head()"
      ]
    },
    {
      "cell_type": "code",
      "execution_count": null,
      "metadata": {
        "colab": {
          "base_uri": "https://localhost:8080/"
        },
        "id": "unKmj0Z7-H8g",
        "outputId": "3314e0b7-2550-4abf-eef0-785173019c24"
      },
      "outputs": [
        {
          "output_type": "execute_result",
          "data": {
            "text/plain": [
              "TRANSIT_DISTRICT          97.8082\n",
              "PARKS_NM                  93.2634\n",
              "STATION_NAME              91.5747\n",
              "HADEVELOPT                89.4369\n",
              "HOUSING_PSA               86.4474\n",
              "SUSP_AGE_GROUP            58.4269\n",
              "SUSP_SEX                  43.6455\n",
              "SUSP_RACE                 42.0690\n",
              "CMPLNT_TO_DT              21.3330\n",
              "CMPLNT_TO_TM              20.8072\n",
              "VIC_AGE_GROUP             19.6343\n",
              "LOC_OF_OCCUR_DESC         19.2989\n",
              "PREM_TYP_DESC              0.5037\n",
              "Zip Codes                  0.4829\n",
              "Police Precincts           0.2221\n",
              "City Council Districts     0.2218\n",
              "Community Districts        0.2218\n",
              "Borough Boundaries         0.2216\n",
              "OFNS_DESC                  0.2200\n",
              "Latitude                   0.2124\n",
              "Lat_Lon                    0.2124\n",
              "X_COORD_CD                 0.2124\n",
              "Y_COORD_CD                 0.2124\n",
              "Longitude                  0.2124\n",
              "BORO_NM                    0.1451\n",
              "PD_CD                      0.0863\n",
              "PATROL_BORO                0.0860\n",
              "PD_DESC                    0.0797\n",
              "JURISDICTION_CODE          0.0797\n",
              "ADDR_PCT_CD                0.0273\n",
              "CMPLNT_FR_DT               0.0089\n",
              "VIC_RACE                   0.0049\n",
              "VIC_SEX                    0.0039\n",
              "CRM_ATPT_CPTD_CD           0.0023\n",
              "CMPLNT_FR_TM               0.0007\n",
              "KY_CD                      0.0000\n",
              "JURIS_DESC                 0.0000\n",
              "RPT_DT                     0.0000\n",
              "LAW_CAT_CD                 0.0000\n",
              "CMPLNT_NUM                 0.0000\n",
              "dtype: float64"
            ]
          },
          "metadata": {},
          "execution_count": 9
        }
      ],
      "source": [
        "(df.isna().sum()/df.shape[0]*100).sort_values(ascending=False)"
      ]
    },
    {
      "cell_type": "code",
      "execution_count": null,
      "metadata": {
        "colab": {
          "base_uri": "https://localhost:8080/"
        },
        "id": "lXkJqrjqZp2a",
        "outputId": "a8552ac5-6c68-4816-9572-bfc9df057e98"
      },
      "outputs": [
        {
          "output_type": "execute_result",
          "data": {
            "text/plain": [
              "MISDEMEANOR    554580\n",
              "FELONY         311221\n",
              "VIOLATION      134199\n",
              "Name: LAW_CAT_CD, dtype: int64"
            ]
          },
          "metadata": {},
          "execution_count": 10
        }
      ],
      "source": [
        "df.LAW_CAT_CD.value_counts().iloc[:10]"
      ]
    },
    {
      "cell_type": "code",
      "execution_count": null,
      "metadata": {
        "id": "Uz40z2mFAKXd"
      },
      "outputs": [],
      "source": [
        "df.drop(['PARKS_NM','STATION_NAME','TRANSIT_DISTRICT','HADEVELOPT','HOUSING_PSA','CMPLNT_FR_DT','CMPLNT_TO_DT','RPT_DT', 'KY_CD', 'PD_CD', 'OFNS_DESC', 'PD_DESC', 'Latitude', 'Longitude', 'Lat_Lon'],axis='columns', inplace=True)"
      ]
    },
    {
      "cell_type": "code",
      "execution_count": null,
      "metadata": {
        "colab": {
          "base_uri": "https://localhost:8080/"
        },
        "id": "QUSbbQK9dH8J",
        "outputId": "298eef30-409b-49ec-a39d-41da875e45c9"
      },
      "outputs": [
        {
          "output_type": "execute_result",
          "data": {
            "text/plain": [
              "array(['WHITE HISPANIC', nan, 'WHITE', 'UNKNOWN', 'BLACK HISPANIC',\n",
              "       'BLACK', 'ASIAN / PACIFIC ISLANDER', '(null)',\n",
              "       'AMERICAN INDIAN/ALASKAN NATIVE', 'OTHER'], dtype=object)"
            ]
          },
          "metadata": {},
          "execution_count": 12
        }
      ],
      "source": [
        "df.SUSP_RACE.unique()"
      ]
    },
    {
      "cell_type": "code",
      "execution_count": null,
      "metadata": {
        "id": "E1l_knJhaUUq"
      },
      "outputs": [],
      "source": [
        "df.dropna(subset=['VIC_SEX','VIC_RACE', 'SUSP_AGE_GROUP'], inplace=True)"
      ]
    },
    {
      "cell_type": "code",
      "execution_count": null,
      "metadata": {
        "id": "cHw8qDw0s95K",
        "colab": {
          "base_uri": "https://localhost:8080/"
        },
        "outputId": "b5e26814-c061-4e10-80ff-bc5a740cadef"
      },
      "outputs": [
        {
          "output_type": "execute_result",
          "data": {
            "text/plain": [
              "CMPLNT_TO_TM              15.325849\n",
              "LOC_OF_OCCUR_DESC         13.342586\n",
              "VIC_AGE_GROUP              3.687739\n",
              "PREM_TYP_DESC              0.349507\n",
              "Zip Codes                  0.321363\n",
              "BORO_NM                    0.144325\n",
              "PATROL_BORO                0.130133\n",
              "JURISDICTION_CODE          0.126044\n",
              "Police Precincts           0.099344\n",
              "City Council Districts     0.098622\n",
              "Community Districts        0.098622\n",
              "Borough Boundaries         0.098381\n",
              "Y_COORD_CD                 0.091646\n",
              "X_COORD_CD                 0.091646\n",
              "SUSP_SEX                   0.056768\n",
              "ADDR_PCT_CD                0.036803\n",
              "CMPLNT_FR_TM               0.000241\n",
              "SUSP_AGE_GROUP             0.000000\n",
              "SUSP_RACE                  0.000000\n",
              "VIC_RACE                   0.000000\n",
              "VIC_SEX                    0.000000\n",
              "JURIS_DESC                 0.000000\n",
              "LAW_CAT_CD                 0.000000\n",
              "CRM_ATPT_CPTD_CD           0.000000\n",
              "CMPLNT_NUM                 0.000000\n",
              "dtype: float64"
            ]
          },
          "metadata": {},
          "execution_count": 14
        }
      ],
      "source": [
        "(df.isna().sum()/df.shape[0]*100).sort_values(ascending=False)"
      ]
    },
    {
      "cell_type": "code",
      "execution_count": null,
      "metadata": {
        "id": "JgrT5hXVtHZZ"
      },
      "outputs": [],
      "source": [
        "df.fillna({'SUSP_SEX':'UNKNOWN'}, inplace=True)\n",
        "df.fillna({'SUSP_RACE':'UNKNOWN'}, inplace=True)\n",
        "df.fillna({'VIC_AGE_GROUP':'UNKNOWN'}, inplace=True)\n",
        "df.fillna({'LOC_OF_OCCUR_DESC':'UNKNOWN'}, inplace=True)\n",
        "df.fillna({'PREM_TYP_DESC':'UNKNOWN'}, inplace=True)\n",
        "df.fillna({'BORO_NM':'UNKNOWN'}, inplace=True)\n",
        "df.fillna({'PATROL_BORO':'UNKNOWN'}, inplace=True)\n",
        "df.fillna({'CRM_ATPT_CPTD_CD':'UNKNOWN'}, inplace=True)"
      ]
    },
    {
      "cell_type": "code",
      "execution_count": null,
      "metadata": {
        "id": "1cnsQqqAwxdA"
      },
      "outputs": [],
      "source": [
        "df_clean = df.replace({'U': 'UNKNOWN', \n",
        "                '(null)': 'UNKNOWN',\n",
        "                'D': 'UNKNOWN',\n",
        "                'E': 'UNKNOWN',\n",
        "                'L': 'UNKNOWN'}).copy()"
      ]
    },
    {
      "cell_type": "code",
      "execution_count": null,
      "metadata": {
        "id": "TQLdKOSu0r9e",
        "colab": {
          "base_uri": "https://localhost:8080/"
        },
        "outputId": "3e47e4b5-c7d0-4210-c28a-7ab1c498858a"
      },
      "outputs": [
        {
          "output_type": "stream",
          "name": "stdout",
          "text": [
            "Observations:  415729\n",
            "Variables:  25\n"
          ]
        }
      ],
      "source": [
        "print(\"Observations: \", df_clean.shape[0])\n",
        "print(\"Variables: \", df_clean.shape[1])"
      ]
    },
    {
      "cell_type": "code",
      "execution_count": null,
      "metadata": {
        "id": "3k1IThzYwDk5",
        "colab": {
          "base_uri": "https://localhost:8080/"
        },
        "outputId": "5be3d222-87e8-4cda-eb9d-9a26141ee51a"
      },
      "outputs": [
        {
          "output_type": "execute_result",
          "data": {
            "text/plain": [
              "MISDEMEANOR    211891\n",
              "FELONY         115108\n",
              "VIOLATION       88730\n",
              "Name: LAW_CAT_CD, dtype: int64"
            ]
          },
          "metadata": {},
          "execution_count": 18
        }
      ],
      "source": [
        "df_clean.LAW_CAT_CD.value_counts().iloc[:10]"
      ]
    },
    {
      "cell_type": "code",
      "source": [
        "#identify all categorical variables\n",
        "cat_columns = df_clean.select_dtypes(['object']).columns\n",
        "\n",
        "#convert all categorical variables to numeric\n",
        "df_clean[cat_columns] = df_clean[cat_columns].apply(lambda x: pd.factorize(x)[0])"
      ],
      "metadata": {
        "id": "mbM0lbL3X55y"
      },
      "execution_count": null,
      "outputs": []
    },
    {
      "cell_type": "code",
      "source": [
        "df_clean.info()"
      ],
      "metadata": {
        "colab": {
          "base_uri": "https://localhost:8080/"
        },
        "id": "qmdmUbIxYGGe",
        "outputId": "044feded-0e3a-45e4-ea35-0a4975d7b568"
      },
      "execution_count": null,
      "outputs": [
        {
          "output_type": "stream",
          "name": "stdout",
          "text": [
            "<class 'pandas.core.frame.DataFrame'>\n",
            "Int64Index: 415729 entries, 63208 to 1446816\n",
            "Data columns (total 25 columns):\n",
            " #   Column                  Non-Null Count   Dtype  \n",
            "---  ------                  --------------   -----  \n",
            " 0   CMPLNT_NUM              415729 non-null  int64  \n",
            " 1   CMPLNT_FR_TM            415729 non-null  int64  \n",
            " 2   CMPLNT_TO_TM            415729 non-null  int64  \n",
            " 3   ADDR_PCT_CD             415576 non-null  float64\n",
            " 4   CRM_ATPT_CPTD_CD        415729 non-null  int64  \n",
            " 5   LAW_CAT_CD              415729 non-null  int64  \n",
            " 6   BORO_NM                 415729 non-null  int64  \n",
            " 7   LOC_OF_OCCUR_DESC       415729 non-null  int64  \n",
            " 8   PREM_TYP_DESC           415729 non-null  int64  \n",
            " 9   JURIS_DESC              415729 non-null  int64  \n",
            " 10  JURISDICTION_CODE       415205 non-null  float64\n",
            " 11  X_COORD_CD              415348 non-null  float64\n",
            " 12  Y_COORD_CD              415348 non-null  float64\n",
            " 13  SUSP_AGE_GROUP          415729 non-null  int64  \n",
            " 14  SUSP_RACE               415729 non-null  int64  \n",
            " 15  SUSP_SEX                415729 non-null  int64  \n",
            " 16  PATROL_BORO             415729 non-null  int64  \n",
            " 17  VIC_AGE_GROUP           415729 non-null  int64  \n",
            " 18  VIC_RACE                415729 non-null  int64  \n",
            " 19  VIC_SEX                 415729 non-null  int64  \n",
            " 20  Zip Codes               414393 non-null  float64\n",
            " 21  Community Districts     415319 non-null  float64\n",
            " 22  Borough Boundaries      415320 non-null  float64\n",
            " 23  City Council Districts  415319 non-null  float64\n",
            " 24  Police Precincts        415316 non-null  float64\n",
            "dtypes: float64(9), int64(16)\n",
            "memory usage: 82.5 MB\n"
          ]
        }
      ]
    },
    {
      "cell_type": "markdown",
      "metadata": {
        "id": "QTkcx-wlzyKw"
      },
      "source": [
        "\n",
        "\n",
        "---\n",
        "\n",
        "ANALISIS DISCRIMINANTE CUADRATICO\n",
        "\n",
        "---\n",
        "\n"
      ]
    },
    {
      "cell_type": "code",
      "execution_count": null,
      "metadata": {
        "id": "cdYtUDsLz9Lh"
      },
      "outputs": [],
      "source": [
        "import numpy as np\n",
        "import pandas as pd\n",
        "from sklearn.model_selection import train_test_split\n",
        "from sklearn.preprocessing import LabelEncoder\n",
        "from sklearn.discriminant_analysis import QuadraticDiscriminantAnalysis\n",
        "from sklearn.metrics import accuracy_score\n",
        "from sklearn.feature_selection import SequentialFeatureSelector\n",
        "from sklearn.metrics import make_scorer\n",
        "from scipy.stats import pearsonr"
      ]
    },
    {
      "cell_type": "code",
      "execution_count": null,
      "metadata": {
        "id": "d2kgirEz0Huu"
      },
      "outputs": [],
      "source": [
        "df_clean.fillna(0, inplace=True)\n",
        "\n",
        "X = df_clean.drop(\"LAW_CAT_CD\", axis=1).values  # características\n",
        "y = df_clean[\"LAW_CAT_CD\"]  # variable objetivo"
      ]
    },
    {
      "cell_type": "code",
      "source": [
        "# Paso 3: Dividir los datos en conjuntos de entrenamiento y prueba\n",
        "X_train, X_test, y_train, y_test = train_test_split(X, y, test_size=0.2, random_state=42)\n"
      ],
      "metadata": {
        "id": "yVCHpeGdhQCY"
      },
      "execution_count": null,
      "outputs": []
    },
    {
      "cell_type": "code",
      "execution_count": null,
      "metadata": {
        "colab": {
          "base_uri": "https://localhost:8080/",
          "height": 75
        },
        "id": "BAjenweF6Jq0",
        "outputId": "d0791ed8-47cf-4f6c-c468-76e499c3c52d"
      },
      "outputs": [
        {
          "output_type": "execute_result",
          "data": {
            "text/plain": [
              "QuadraticDiscriminantAnalysis()"
            ],
            "text/html": [
              "<style>#sk-container-id-1 {color: black;background-color: white;}#sk-container-id-1 pre{padding: 0;}#sk-container-id-1 div.sk-toggleable {background-color: white;}#sk-container-id-1 label.sk-toggleable__label {cursor: pointer;display: block;width: 100%;margin-bottom: 0;padding: 0.3em;box-sizing: border-box;text-align: center;}#sk-container-id-1 label.sk-toggleable__label-arrow:before {content: \"▸\";float: left;margin-right: 0.25em;color: #696969;}#sk-container-id-1 label.sk-toggleable__label-arrow:hover:before {color: black;}#sk-container-id-1 div.sk-estimator:hover label.sk-toggleable__label-arrow:before {color: black;}#sk-container-id-1 div.sk-toggleable__content {max-height: 0;max-width: 0;overflow: hidden;text-align: left;background-color: #f0f8ff;}#sk-container-id-1 div.sk-toggleable__content pre {margin: 0.2em;color: black;border-radius: 0.25em;background-color: #f0f8ff;}#sk-container-id-1 input.sk-toggleable__control:checked~div.sk-toggleable__content {max-height: 200px;max-width: 100%;overflow: auto;}#sk-container-id-1 input.sk-toggleable__control:checked~label.sk-toggleable__label-arrow:before {content: \"▾\";}#sk-container-id-1 div.sk-estimator input.sk-toggleable__control:checked~label.sk-toggleable__label {background-color: #d4ebff;}#sk-container-id-1 div.sk-label input.sk-toggleable__control:checked~label.sk-toggleable__label {background-color: #d4ebff;}#sk-container-id-1 input.sk-hidden--visually {border: 0;clip: rect(1px 1px 1px 1px);clip: rect(1px, 1px, 1px, 1px);height: 1px;margin: -1px;overflow: hidden;padding: 0;position: absolute;width: 1px;}#sk-container-id-1 div.sk-estimator {font-family: monospace;background-color: #f0f8ff;border: 1px dotted black;border-radius: 0.25em;box-sizing: border-box;margin-bottom: 0.5em;}#sk-container-id-1 div.sk-estimator:hover {background-color: #d4ebff;}#sk-container-id-1 div.sk-parallel-item::after {content: \"\";width: 100%;border-bottom: 1px solid gray;flex-grow: 1;}#sk-container-id-1 div.sk-label:hover label.sk-toggleable__label {background-color: #d4ebff;}#sk-container-id-1 div.sk-serial::before {content: \"\";position: absolute;border-left: 1px solid gray;box-sizing: border-box;top: 0;bottom: 0;left: 50%;z-index: 0;}#sk-container-id-1 div.sk-serial {display: flex;flex-direction: column;align-items: center;background-color: white;padding-right: 0.2em;padding-left: 0.2em;position: relative;}#sk-container-id-1 div.sk-item {position: relative;z-index: 1;}#sk-container-id-1 div.sk-parallel {display: flex;align-items: stretch;justify-content: center;background-color: white;position: relative;}#sk-container-id-1 div.sk-item::before, #sk-container-id-1 div.sk-parallel-item::before {content: \"\";position: absolute;border-left: 1px solid gray;box-sizing: border-box;top: 0;bottom: 0;left: 50%;z-index: -1;}#sk-container-id-1 div.sk-parallel-item {display: flex;flex-direction: column;z-index: 1;position: relative;background-color: white;}#sk-container-id-1 div.sk-parallel-item:first-child::after {align-self: flex-end;width: 50%;}#sk-container-id-1 div.sk-parallel-item:last-child::after {align-self: flex-start;width: 50%;}#sk-container-id-1 div.sk-parallel-item:only-child::after {width: 0;}#sk-container-id-1 div.sk-dashed-wrapped {border: 1px dashed gray;margin: 0 0.4em 0.5em 0.4em;box-sizing: border-box;padding-bottom: 0.4em;background-color: white;}#sk-container-id-1 div.sk-label label {font-family: monospace;font-weight: bold;display: inline-block;line-height: 1.2em;}#sk-container-id-1 div.sk-label-container {text-align: center;}#sk-container-id-1 div.sk-container {/* jupyter's `normalize.less` sets `[hidden] { display: none; }` but bootstrap.min.css set `[hidden] { display: none !important; }` so we also need the `!important` here to be able to override the default hidden behavior on the sphinx rendered scikit-learn.org. See: https://github.com/scikit-learn/scikit-learn/issues/21755 */display: inline-block !important;position: relative;}#sk-container-id-1 div.sk-text-repr-fallback {display: none;}</style><div id=\"sk-container-id-1\" class=\"sk-top-container\"><div class=\"sk-text-repr-fallback\"><pre>QuadraticDiscriminantAnalysis()</pre><b>In a Jupyter environment, please rerun this cell to show the HTML representation or trust the notebook. <br />On GitHub, the HTML representation is unable to render, please try loading this page with nbviewer.org.</b></div><div class=\"sk-container\" hidden><div class=\"sk-item\"><div class=\"sk-estimator sk-toggleable\"><input class=\"sk-toggleable__control sk-hidden--visually\" id=\"sk-estimator-id-1\" type=\"checkbox\" checked><label for=\"sk-estimator-id-1\" class=\"sk-toggleable__label sk-toggleable__label-arrow\">QuadraticDiscriminantAnalysis</label><div class=\"sk-toggleable__content\"><pre>QuadraticDiscriminantAnalysis()</pre></div></div></div></div></div>"
            ]
          },
          "metadata": {},
          "execution_count": 24
        }
      ],
      "source": [
        "# Paso 4: Definir el modelo QDA original\n",
        "qda = QuadraticDiscriminantAnalysis()\n",
        "qda.fit(X_train, y_train)"
      ]
    },
    {
      "cell_type": "code",
      "source": [
        "# Paso 5: Evaluar el rendimiento del modelo QDA original\n",
        "y_pred = qda.predict(X_test)\n",
        "accuracy = accuracy_score(y_test, y_pred)\n",
        "print(\"Exactitud del modelo original:\", accuracy)"
      ],
      "metadata": {
        "colab": {
          "base_uri": "https://localhost:8080/"
        },
        "id": "b-790OMYh2bM",
        "outputId": "411c4e85-7402-4931-83ce-f69d097bd9d6"
      },
      "execution_count": null,
      "outputs": [
        {
          "output_type": "stream",
          "name": "stdout",
          "text": [
            "Exactitud del modelo original: 0.416099391431939\n"
          ]
        }
      ]
    },
    {
      "cell_type": "markdown",
      "metadata": {
        "id": "UKGcBizd9zVi"
      },
      "source": [
        "ventana de parzen"
      ]
    },
    {
      "cell_type": "code",
      "source": [
        "from scipy.stats import multivariate_normal\n",
        "from sklearn.metrics import accuracy_score\n",
        "\n",
        "def kernel_density(x, mean, h):\n",
        "    kde = multivariate_normal(mean=mean, cov=h)\n",
        "    return kde.pdf(x)\n",
        "\n",
        "def parzen_window(X_train, y_train, X_test, h):\n",
        "    predictions = []\n",
        "    unique_labels = np.unique(y_train)\n",
        "    for x_test in X_test:\n",
        "        class_probs = []\n",
        "        for label in unique_labels:\n",
        "            class_samples = X_train[y_train == label]\n",
        "            class_mean = np.mean(class_samples, axis=0)\n",
        "            class_prob = np.mean(kernel_density(x_test, class_mean, h))\n",
        "            class_probs.append((label, class_prob))\n",
        "        predicted_label = max(class_probs, key=lambda x: x[1])[0]\n",
        "        predictions.append(predicted_label)\n",
        "    return predictions\n",
        "\n",
        "# Paso 1: Importar los datos\n",
        "X = df_clean.drop(\"LAW_CAT_CD\", axis=1).values\n",
        "y = df_clean[\"LAW_CAT_CD\"].values\n"
      ],
      "metadata": {
        "id": "lZQ_dx1fYjlB"
      },
      "execution_count": null,
      "outputs": []
    },
    {
      "cell_type": "code",
      "source": [
        "from sklearn.model_selection import train_test_split\n",
        "import numpy as np\n",
        "\n",
        "# Paso 2: Dividir los datos en conjuntos de entrenamiento y prueba (opcional)\n",
        "X_train, X_test, y_train, y_test = train_test_split(X, y, test_size=0.2, random_state=42)"
      ],
      "metadata": {
        "id": "XAmU6RS0ZV5-"
      },
      "execution_count": null,
      "outputs": []
    },
    {
      "cell_type": "code",
      "source": [
        "# Paso 3: Definir el ancho de la ventana\n",
        "h = np.eye(X_train.shape[1]) * 0.1  # Matriz de covarianza diagonal con ancho de ventana 0.1\n",
        "print(h)"
      ],
      "metadata": {
        "colab": {
          "base_uri": "https://localhost:8080/"
        },
        "id": "T5-iA1RPoLaB",
        "outputId": "1240d510-3c43-4528-8c95-a09bc518d1d4"
      },
      "execution_count": null,
      "outputs": [
        {
          "output_type": "stream",
          "name": "stdout",
          "text": [
            "[[0.1 0.  0.  0.  0.  0.  0.  0.  0.  0.  0.  0.  0.  0.  0.  0.  0.  0.\n",
            "  0. ]\n",
            " [0.  0.1 0.  0.  0.  0.  0.  0.  0.  0.  0.  0.  0.  0.  0.  0.  0.  0.\n",
            "  0. ]\n",
            " [0.  0.  0.1 0.  0.  0.  0.  0.  0.  0.  0.  0.  0.  0.  0.  0.  0.  0.\n",
            "  0. ]\n",
            " [0.  0.  0.  0.1 0.  0.  0.  0.  0.  0.  0.  0.  0.  0.  0.  0.  0.  0.\n",
            "  0. ]\n",
            " [0.  0.  0.  0.  0.1 0.  0.  0.  0.  0.  0.  0.  0.  0.  0.  0.  0.  0.\n",
            "  0. ]\n",
            " [0.  0.  0.  0.  0.  0.1 0.  0.  0.  0.  0.  0.  0.  0.  0.  0.  0.  0.\n",
            "  0. ]\n",
            " [0.  0.  0.  0.  0.  0.  0.1 0.  0.  0.  0.  0.  0.  0.  0.  0.  0.  0.\n",
            "  0. ]\n",
            " [0.  0.  0.  0.  0.  0.  0.  0.1 0.  0.  0.  0.  0.  0.  0.  0.  0.  0.\n",
            "  0. ]\n",
            " [0.  0.  0.  0.  0.  0.  0.  0.  0.1 0.  0.  0.  0.  0.  0.  0.  0.  0.\n",
            "  0. ]\n",
            " [0.  0.  0.  0.  0.  0.  0.  0.  0.  0.1 0.  0.  0.  0.  0.  0.  0.  0.\n",
            "  0. ]\n",
            " [0.  0.  0.  0.  0.  0.  0.  0.  0.  0.  0.1 0.  0.  0.  0.  0.  0.  0.\n",
            "  0. ]\n",
            " [0.  0.  0.  0.  0.  0.  0.  0.  0.  0.  0.  0.1 0.  0.  0.  0.  0.  0.\n",
            "  0. ]\n",
            " [0.  0.  0.  0.  0.  0.  0.  0.  0.  0.  0.  0.  0.1 0.  0.  0.  0.  0.\n",
            "  0. ]\n",
            " [0.  0.  0.  0.  0.  0.  0.  0.  0.  0.  0.  0.  0.  0.1 0.  0.  0.  0.\n",
            "  0. ]\n",
            " [0.  0.  0.  0.  0.  0.  0.  0.  0.  0.  0.  0.  0.  0.  0.1 0.  0.  0.\n",
            "  0. ]\n",
            " [0.  0.  0.  0.  0.  0.  0.  0.  0.  0.  0.  0.  0.  0.  0.  0.1 0.  0.\n",
            "  0. ]\n",
            " [0.  0.  0.  0.  0.  0.  0.  0.  0.  0.  0.  0.  0.  0.  0.  0.  0.1 0.\n",
            "  0. ]\n",
            " [0.  0.  0.  0.  0.  0.  0.  0.  0.  0.  0.  0.  0.  0.  0.  0.  0.  0.1\n",
            "  0. ]\n",
            " [0.  0.  0.  0.  0.  0.  0.  0.  0.  0.  0.  0.  0.  0.  0.  0.  0.  0.\n",
            "  0.1]]\n"
          ]
        }
      ]
    },
    {
      "cell_type": "code",
      "source": [
        "\n",
        "# Paso 4: Aplicar el método de Ventana de Parzen\n",
        "predictions = parzen_window(X_train, y_train, X_test, h)  # Si se dividen los datos en conjuntos de entrenamiento y prueba\n",
        "\n",
        "# Paso 5: Evaluar el rendimiento del modelo\n",
        "accuracy = accuracy_score(y_test, predictions)  # Si se dividen los datos en conjuntos de entrenamiento y prueba\n",
        "\n",
        "print(\"Exactitud del modelo:\", accuracy)"
      ],
      "metadata": {
        "colab": {
          "base_uri": "https://localhost:8080/"
        },
        "id": "uIIkZtL9aMdw",
        "outputId": "70e2f783-1c82-4da2-918c-5d94c88696ea"
      },
      "execution_count": null,
      "outputs": [
        {
          "output_type": "stream",
          "name": "stdout",
          "text": [
            "Exactitud del modelo: 0.2791234695595699\n"
          ]
        }
      ]
    },
    {
      "cell_type": "markdown",
      "source": [
        "GradientBoosting"
      ],
      "metadata": {
        "id": "BU9C0eEGbcvI"
      }
    },
    {
      "cell_type": "code",
      "source": [
        "from sklearn.ensemble import GradientBoostingClassifier\n",
        "from sklearn.model_selection import train_test_split\n",
        "from sklearn.metrics import accuracy_score\n",
        "\n",
        "# Paso 1: Importar los datos\n",
        "X = df_clean.drop(\"LAW_CAT_CD\", axis=1).values\n",
        "y = df_clean[\"LAW_CAT_CD\"].values\n"
      ],
      "metadata": {
        "id": "1JhpHQDeb2Kb"
      },
      "execution_count": null,
      "outputs": []
    },
    {
      "cell_type": "code",
      "source": [
        "# Paso 2: Dividir los datos en conjuntos de entrenamiento y prueba\n",
        "X_train, X_test, y_train, y_test = train_test_split(X, y, test_size=0.2, random_state=42)"
      ],
      "metadata": {
        "id": "u2gL7Q8CdDQO"
      },
      "execution_count": null,
      "outputs": []
    },
    {
      "cell_type": "code",
      "source": [
        "# Paso 3: Definir el modelo de Gradient Boosting Tree\n",
        "model = GradientBoostingClassifier()"
      ],
      "metadata": {
        "id": "wsHQ493cdMHJ"
      },
      "execution_count": null,
      "outputs": []
    },
    {
      "cell_type": "code",
      "source": [
        "# Paso 4: Entrenar el modelo\n",
        "model.fit(X_train, y_train)"
      ],
      "metadata": {
        "colab": {
          "base_uri": "https://localhost:8080/",
          "height": 75
        },
        "id": "Dy-yjEMKdQLR",
        "outputId": "ddc208ea-3d3b-4276-a627-0180f52cc8d5"
      },
      "execution_count": null,
      "outputs": [
        {
          "output_type": "execute_result",
          "data": {
            "text/plain": [
              "GradientBoostingClassifier()"
            ],
            "text/html": [
              "<style>#sk-container-id-2 {color: black;background-color: white;}#sk-container-id-2 pre{padding: 0;}#sk-container-id-2 div.sk-toggleable {background-color: white;}#sk-container-id-2 label.sk-toggleable__label {cursor: pointer;display: block;width: 100%;margin-bottom: 0;padding: 0.3em;box-sizing: border-box;text-align: center;}#sk-container-id-2 label.sk-toggleable__label-arrow:before {content: \"▸\";float: left;margin-right: 0.25em;color: #696969;}#sk-container-id-2 label.sk-toggleable__label-arrow:hover:before {color: black;}#sk-container-id-2 div.sk-estimator:hover label.sk-toggleable__label-arrow:before {color: black;}#sk-container-id-2 div.sk-toggleable__content {max-height: 0;max-width: 0;overflow: hidden;text-align: left;background-color: #f0f8ff;}#sk-container-id-2 div.sk-toggleable__content pre {margin: 0.2em;color: black;border-radius: 0.25em;background-color: #f0f8ff;}#sk-container-id-2 input.sk-toggleable__control:checked~div.sk-toggleable__content {max-height: 200px;max-width: 100%;overflow: auto;}#sk-container-id-2 input.sk-toggleable__control:checked~label.sk-toggleable__label-arrow:before {content: \"▾\";}#sk-container-id-2 div.sk-estimator input.sk-toggleable__control:checked~label.sk-toggleable__label {background-color: #d4ebff;}#sk-container-id-2 div.sk-label input.sk-toggleable__control:checked~label.sk-toggleable__label {background-color: #d4ebff;}#sk-container-id-2 input.sk-hidden--visually {border: 0;clip: rect(1px 1px 1px 1px);clip: rect(1px, 1px, 1px, 1px);height: 1px;margin: -1px;overflow: hidden;padding: 0;position: absolute;width: 1px;}#sk-container-id-2 div.sk-estimator {font-family: monospace;background-color: #f0f8ff;border: 1px dotted black;border-radius: 0.25em;box-sizing: border-box;margin-bottom: 0.5em;}#sk-container-id-2 div.sk-estimator:hover {background-color: #d4ebff;}#sk-container-id-2 div.sk-parallel-item::after {content: \"\";width: 100%;border-bottom: 1px solid gray;flex-grow: 1;}#sk-container-id-2 div.sk-label:hover label.sk-toggleable__label {background-color: #d4ebff;}#sk-container-id-2 div.sk-serial::before {content: \"\";position: absolute;border-left: 1px solid gray;box-sizing: border-box;top: 0;bottom: 0;left: 50%;z-index: 0;}#sk-container-id-2 div.sk-serial {display: flex;flex-direction: column;align-items: center;background-color: white;padding-right: 0.2em;padding-left: 0.2em;position: relative;}#sk-container-id-2 div.sk-item {position: relative;z-index: 1;}#sk-container-id-2 div.sk-parallel {display: flex;align-items: stretch;justify-content: center;background-color: white;position: relative;}#sk-container-id-2 div.sk-item::before, #sk-container-id-2 div.sk-parallel-item::before {content: \"\";position: absolute;border-left: 1px solid gray;box-sizing: border-box;top: 0;bottom: 0;left: 50%;z-index: -1;}#sk-container-id-2 div.sk-parallel-item {display: flex;flex-direction: column;z-index: 1;position: relative;background-color: white;}#sk-container-id-2 div.sk-parallel-item:first-child::after {align-self: flex-end;width: 50%;}#sk-container-id-2 div.sk-parallel-item:last-child::after {align-self: flex-start;width: 50%;}#sk-container-id-2 div.sk-parallel-item:only-child::after {width: 0;}#sk-container-id-2 div.sk-dashed-wrapped {border: 1px dashed gray;margin: 0 0.4em 0.5em 0.4em;box-sizing: border-box;padding-bottom: 0.4em;background-color: white;}#sk-container-id-2 div.sk-label label {font-family: monospace;font-weight: bold;display: inline-block;line-height: 1.2em;}#sk-container-id-2 div.sk-label-container {text-align: center;}#sk-container-id-2 div.sk-container {/* jupyter's `normalize.less` sets `[hidden] { display: none; }` but bootstrap.min.css set `[hidden] { display: none !important; }` so we also need the `!important` here to be able to override the default hidden behavior on the sphinx rendered scikit-learn.org. See: https://github.com/scikit-learn/scikit-learn/issues/21755 */display: inline-block !important;position: relative;}#sk-container-id-2 div.sk-text-repr-fallback {display: none;}</style><div id=\"sk-container-id-2\" class=\"sk-top-container\"><div class=\"sk-text-repr-fallback\"><pre>GradientBoostingClassifier()</pre><b>In a Jupyter environment, please rerun this cell to show the HTML representation or trust the notebook. <br />On GitHub, the HTML representation is unable to render, please try loading this page with nbviewer.org.</b></div><div class=\"sk-container\" hidden><div class=\"sk-item\"><div class=\"sk-estimator sk-toggleable\"><input class=\"sk-toggleable__control sk-hidden--visually\" id=\"sk-estimator-id-2\" type=\"checkbox\" checked><label for=\"sk-estimator-id-2\" class=\"sk-toggleable__label sk-toggleable__label-arrow\">GradientBoostingClassifier</label><div class=\"sk-toggleable__content\"><pre>GradientBoostingClassifier()</pre></div></div></div></div></div>"
            ]
          },
          "metadata": {},
          "execution_count": 29
        }
      ]
    },
    {
      "cell_type": "code",
      "source": [
        "# Paso 5: Realizar predicciones en el conjunto de prueba\n",
        "predictions = model.predict(X_test)\n",
        "\n",
        "# Paso 6: Evaluar el rendimiento del modelo\n",
        "accuracy = accuracy_score(y_test, predictions)\n",
        "print(\"Exactitud del modelo:\", accuracy)"
      ],
      "metadata": {
        "colab": {
          "base_uri": "https://localhost:8080/"
        },
        "id": "FPBg09XldTa3",
        "outputId": "456a6264-b064-42a5-f7df-f6626a028908"
      },
      "execution_count": null,
      "outputs": [
        {
          "output_type": "stream",
          "name": "stdout",
          "text": [
            "Exactitud del modelo: 0.5329300267000217\n"
          ]
        }
      ]
    },
    {
      "cell_type": "code",
      "source": [
        "import seaborn as sns\n",
        "confusion = confusion_matrix(y_test, predictions)\n",
        "\n",
        "# Paso 8: Visualizar la matriz de confusión\n",
        "plt.figure(figsize=(8, 6))\n",
        "sns.heatmap(confusion, annot=True, fmt='d', cmap='Blues')\n",
        "plt.xlabel('Predicciones')\n",
        "plt.ylabel('Valores reales')\n",
        "plt.title('Matriz de confusión')\n",
        "plt.show()"
      ],
      "metadata": {
        "colab": {
          "base_uri": "https://localhost:8080/",
          "height": 564
        },
        "id": "ORKXDLu-bs4j",
        "outputId": "aa1dbc28-366f-4b7a-f055-5cdb9a288bef"
      },
      "execution_count": null,
      "outputs": [
        {
          "output_type": "display_data",
          "data": {
            "text/plain": [
              "<Figure size 800x600 with 2 Axes>"
            ],
            "image/png": "[encoded data removed]"
          },
          "metadata": {}
        }
      ]
    },
    {
      "cell_type": "markdown",
      "source": [
        "redes neuronales"
      ],
      "metadata": {
        "id": "PGYQYWI5dXMH"
      }
    },
    {
      "cell_type": "code",
      "source": [
        "import numpy as np\n",
        "import pandas as pd\n",
        "from sklearn.model_selection import train_test_split\n",
        "from sklearn.preprocessing import LabelEncoder\n",
        "from keras.models import Sequential\n",
        "from keras.layers import Dense\n",
        "from keras.utils import np_utils\n",
        "from sklearn.metrics import accuracy_score\n",
        "\n",
        "# Paso 1: Importar los datos\n",
        "# Paso 1: Importar los datos\n",
        "X = df_clean.drop(\"LAW_CAT_CD\", axis=1).values\n",
        "y = df_clean[\"LAW_CAT_CD\"].values"
      ],
      "metadata": {
        "id": "2CvH4gzIdbLv"
      },
      "execution_count": null,
      "outputs": []
    },
    {
      "cell_type": "code",
      "source": [
        "# Paso 2: Codificar las etiquetas de salida\n",
        "label_encoder = LabelEncoder()\n",
        "y_encoded = label_encoder.fit_transform(y)\n",
        "y_one_hot = np_utils.to_categorical(y_encoded)"
      ],
      "metadata": {
        "id": "WeHmeroqeCln"
      },
      "execution_count": null,
      "outputs": []
    },
    {
      "cell_type": "code",
      "source": [
        "# Paso 3: Dividir los datos en conjuntos de entrenamiento y prueba\n",
        "X_train, X_test, y_train, y_test = train_test_split(X, y_one_hot, test_size=0.2, random_state=42)"
      ],
      "metadata": {
        "id": "LgzBB-9-eLEH"
      },
      "execution_count": null,
      "outputs": []
    },
    {
      "cell_type": "code",
      "source": [
        "# Paso 4: Definir la arquitectura de la red neuronal\n",
        "model = Sequential()\n",
        "model.add(Dense(64, input_dim=19, activation='relu'))\n",
        "model.add(Dense(32, activation='relu'))\n",
        "model.add(Dense(y_one_hot.shape[1], activation='softmax'))\n"
      ],
      "metadata": {
        "id": "nRh8xDdReOUf"
      },
      "execution_count": null,
      "outputs": []
    },
    {
      "cell_type": "code",
      "source": [
        "# Paso 5: Compilar el modelo\n",
        "model.compile(loss='categorical_crossentropy', optimizer='adam', metrics=['accuracy'])"
      ],
      "metadata": {
        "id": "Fq5MWzsleVrY"
      },
      "execution_count": null,
      "outputs": []
    },
    {
      "cell_type": "code",
      "source": [
        "# Paso 6: Entrenar la red neuronal\n",
        "model.fit(X_train, y_train, epochs=10, batch_size=32, verbose=1)"
      ],
      "metadata": {
        "id": "tLYAfedbeZZK",
        "colab": {
          "base_uri": "https://localhost:8080/"
        },
        "outputId": "d3dc5e0f-10f6-4683-bb59-f257fdcbfa76"
      },
      "execution_count": null,
      "outputs": [
        {
          "output_type": "stream",
          "name": "stdout",
          "text": [
            "Epoch 1/10\n",
            "10394/10394 [==============================] - 20s 2ms/step - loss: 1046.7356 - accuracy: 0.3857\n",
            "Epoch 2/10\n",
            "10394/10394 [==============================] - 20s 2ms/step - loss: 281.6111 - accuracy: 0.3853\n",
            "Epoch 3/10\n",
            "10394/10394 [==============================] - 19s 2ms/step - loss: 95.0996 - accuracy: 0.3859\n",
            "Epoch 4/10\n",
            "10394/10394 [==============================] - 20s 2ms/step - loss: 10.4742 - accuracy: 0.4318\n",
            "Epoch 5/10\n",
            "10394/10394 [==============================] - 19s 2ms/step - loss: 1.0284 - accuracy: 0.5102\n",
            "Epoch 6/10\n",
            "10394/10394 [==============================] - 19s 2ms/step - loss: 1.0391 - accuracy: 0.5101\n",
            "Epoch 7/10\n",
            "10394/10394 [==============================] - 20s 2ms/step - loss: 1.0434 - accuracy: 0.5102\n",
            "Epoch 8/10\n",
            "10394/10394 [==============================] - 19s 2ms/step - loss: 1.0284 - accuracy: 0.5103\n",
            "Epoch 9/10\n",
            "10394/10394 [==============================] - 19s 2ms/step - loss: 1.0284 - accuracy: 0.5103\n",
            "Epoch 10/10\n",
            "10394/10394 [==============================] - 20s 2ms/step - loss: 1.0284 - accuracy: 0.5103\n"
          ]
        },
        {
          "output_type": "execute_result",
          "data": {
            "text/plain": [
              "<keras.callbacks.History at 0x7f4534197c40>"
            ]
          },
          "metadata": {},
          "execution_count": 219
        }
      ]
    },
    {
      "cell_type": "code",
      "source": [
        "# Paso 7: Realizar predicciones en el conjunto de prueba\n",
        "y_pred = model.predict(X_test)\n",
        "y_pred_labels = np.argmax(y_pred, axis=1)\n",
        "y_test_labels = np.argmax(y_test, axis=1)\n",
        "\n",
        "# Paso 8: Evaluar el rendimiento del modelo\n",
        "accuracy = accuracy_score(y_test_labels, y_pred_labels)\n",
        "print(\"Exactitud del modelo:\", accuracy)"
      ],
      "metadata": {
        "id": "PvcyBzUaef2O",
        "colab": {
          "base_uri": "https://localhost:8080/"
        },
        "outputId": "757708ee-b743-41b4-9896-beb6ace6cc4a"
      },
      "execution_count": null,
      "outputs": [
        {
          "output_type": "stream",
          "name": "stdout",
          "text": [
            "2599/2599 [==============================] - 4s 1ms/step\n",
            "Exactitud del modelo: 0.5073846005821085\n"
          ]
        }
      ]
    },
    {
      "cell_type": "code",
      "source": [
        "import seaborn as sns\n",
        "confusion = confusion_matrix(y_test_labels, y_pred_labels)\n",
        "\n",
        "# Paso 8: Visualizar la matriz de confusión\n",
        "plt.figure(figsize=(8, 6))\n",
        "sns.heatmap(confusion, annot=True, fmt='d', cmap='Blues')\n",
        "plt.xlabel('Predicciones')\n",
        "plt.ylabel('Valores reales')\n",
        "plt.title('Matriz de confusión')\n",
        "plt.show()"
      ],
      "metadata": {
        "colab": {
          "base_uri": "https://localhost:8080/",
          "height": 564
        },
        "id": "ND5wx1JxT4Wp",
        "outputId": "e5d0c40d-44bc-4b72-8129-b2e2ff83c88e"
      },
      "execution_count": null,
      "outputs": [
        {
          "output_type": "display_data",
          "data": {
            "text/plain": [
              "<Figure size 800x600 with 2 Axes>"
            ],
            "image/png": "[encoded data removed]"
          },
          "metadata": {}
        }
      ]
    },
    {
      "cell_type": "markdown",
      "source": [
        "Regresión por Vectores de Soporte"
      ],
      "metadata": {
        "id": "wjk-QVrwejZZ"
      }
    },
    {
      "cell_type": "code",
      "source": [
        "import pandas as pd\n",
        "from sklearn.svm import SVC\n",
        "from sklearn.model_selection import train_test_split\n",
        "from sklearn.metrics import accuracy_score\n",
        "\n",
        "\n",
        "\n",
        "X = df_clean.drop(\"LAW_CAT_CD\", axis=1).values\n",
        "y = df_clean[\"LAW_CAT_CD\"].values"
      ],
      "metadata": {
        "id": "T_2Qmb7Ken9y"
      },
      "execution_count": null,
      "outputs": []
    },
    {
      "cell_type": "code",
      "source": [
        "# Paso 3: Dividir los datos en conjuntos de entrenamiento y prueba\n",
        "X_train, X_test, y_train, y_test = train_test_split(X, y, test_size=0.2, random_state=42)"
      ],
      "metadata": {
        "id": "LoeAov1TeucL"
      },
      "execution_count": null,
      "outputs": []
    },
    {
      "cell_type": "code",
      "source": [
        "# Paso 4: Crear y ajustar el modelo SVM\n",
        "svm = SVC()\n",
        "svm.fit(X_train, y_train)"
      ],
      "metadata": {
        "id": "Q4kSiY1iey6z"
      },
      "execution_count": null,
      "outputs": []
    },
    {
      "cell_type": "code",
      "source": [
        "# Paso 5: Realizar predicciones en el conjunto de prueba\n",
        "y_pred = svm.predict(X_test)\n",
        "\n",
        "# Paso 6: Evaluar el rendimiento del modelo\n",
        "accuracy = accuracy_score(y_test, y_pred)\n",
        "print(\"Exactitud del modelo:\", accuracy)"
      ],
      "metadata": {
        "id": "d1WlpGAWe146"
      },
      "execution_count": null,
      "outputs": []
    },
    {
      "cell_type": "code",
      "source": [
        "import pandas as pd\n",
        "import numpy as np\n",
        "from sklearn.ensemble import GradientBoostingClassifier\n",
        "from sklearn.discriminant_analysis import QuadraticDiscriminantAnalysis\n",
        "from sklearn.feature_selection import SelectKBest, f_classif\n",
        "from sklearn.model_selection import train_test_split\n",
        "from sklearn.metrics import accuracy_score, precision_score, recall_score, f1_score\n",
        "\n",
        "\n",
        "# Paso 3: Dividir los datos en conjuntos de entrenamiento y prueba\n",
        "X_train, X_test, y_train, y_test = train_test_split(X, y, test_size=0.2, random_state=42)\n",
        "\n",
        "# Modelos\n",
        "\n",
        "# Modelo 1: Gradient Boosting\n",
        "gb_model = GradientBoostingClassifier()\n",
        "\n",
        "# Paso 4: Realizar selección de características con SelectKBest en Gradient Boosting\n",
        "selector_gb = SelectKBest(score_func=f_classif, k=3)\n",
        "X_train_selected_gb = selector_gb.fit_transform(X_train, y_train)\n",
        "X_test_selected_gb = selector_gb.transform(X_test)\n",
        "\n",
        "# Obtener las características seleccionadas para Gradient Boosting\n",
        "selected_features_gb = df_clean.columns[:-1][selector_gb.get_support()].tolist()\n",
        "\n",
        "# Modelo 2: Análisis Discriminante Cuadrático\n",
        "qda_model = QuadraticDiscriminantAnalysis()\n",
        "\n",
        "# Paso 5: Realizar selección de características con SelectKBest en Análisis Discriminante Cuadrático\n",
        "selector_qda = SelectKBest(score_func=f_classif, k=3)\n",
        "X_train_selected_qda = selector_qda.fit_transform(X_train, y_train)\n",
        "X_test_selected_qda = selector_qda.transform(X_test)\n",
        "\n",
        "# Obtener las características seleccionadas para Análisis Discriminante Cuadrático\n",
        "selected_features_qda = df_clean.columns[:-1][selector_qda.get_support()].tolist()\n",
        "\n",
        "# Ajustar los modelos con las características seleccionadas y realizar predicciones\n",
        "gb_model_selected = GradientBoostingClassifier()\n",
        "gb_model_selected.fit(X_train_selected_gb, y_train)\n",
        "y_pred_gb_selected = gb_model_selected.predict(X_test_selected_gb)\n",
        "\n",
        "qda_model_selected = QuadraticDiscriminantAnalysis()\n",
        "qda_model_selected.fit(X_train_selected_qda, y_train)\n",
        "y_pred_qda_selected = qda_model_selected.predict(X_test_selected_qda)\n",
        "\n",
        "# Evaluar el rendimiento de los modelos con características seleccionadas\n",
        "accuracy_gb_selected = accuracy_score(y_test, y_pred_gb_selected)\n",
        "accuracy_qda_selected = accuracy_score(y_test, y_pred_qda_selected)\n",
        "\n",
        "# Otras medidas de desempeño\n",
        "# Otras medidas de desempeño\n",
        "precision_gb_selected = precision_score(y_test, y_pred_gb_selected, average='weighted')\n",
        "recall_gb_selected = recall_score(y_test, y_pred_gb_selected, average='weighted')\n",
        "f1_gb_selected = f1_score(y_test, y_pred_gb_selected, average='weighted')\n",
        "\n",
        "precision_qda_selected = precision_score(y_test, y_pred_qda_selected, average='weighted')\n",
        "recall_qda_selected = recall_score(y_test, y_pred_qda_selected, average='weighted')\n",
        "f1_qda_selected = f1_score(y_test, y_pred_qda_selected, average='weighted')\n",
        "\n",
        "# Porcentaje de reducción\n",
        "reduction_gb = (X_train.shape[1] - X_train_selected_gb.shape[1]) / X_train.shape[1] * 100\n",
        "reduction_qda = (X_train.shape[1] - X_train_selected_qda.shape[1]) / X_train.shape[1] * 100\n",
        "\n",
        "# Crear una tabla con los resultados\n",
        "results = pd.DataFrame({\n",
        "    'Modelo': ['Gradient Boosting', 'Análisis Discriminante Cuadrático'],\n",
        "    'Características Seleccionadas': [selected_features_gb, selected_features_qda],\n",
        "    'Exactitud': [accuracy_gb_selected, accuracy_qda_selected],\n",
        "    'Precisión': [precision_gb_selected, precision_qda_selected],\n",
        "    'Recall': [recall_gb_selected, recall_qda_selected],\n",
        "    'F1': [f1_gb_selected, f1_qda_selected],\n",
        "    'Porcentaje de Reducción': [reduction_gb, reduction_qda]\n",
        "})\n",
        "\n",
        "# Imprimir los resultados\n",
        "print(results)"
      ],
      "metadata": {
        "colab": {
          "base_uri": "https://localhost:8080/"
        },
        "id": "L3Yhzmb5mnl8",
        "outputId": "5118a51c-c763-4d88-d780-628a0b87aeac"
      },
      "execution_count": null,
      "outputs": [
        {
          "output_type": "stream",
          "name": "stdout",
          "text": [
            "                              Modelo           Características Seleccionadas  \\\n",
            "0                  Gradient Boosting  [PATROL_BORO, VIC_AGE_GROUP, VIC_RACE]   \n",
            "1  Análisis Discriminante Cuadrático  [PATROL_BORO, VIC_AGE_GROUP, VIC_RACE]   \n",
            "\n",
            "   Exactitud  Precisión    Recall        F1  Porcentaje de Reducción  \n",
            "0   0.509297   0.458099  0.509297  0.363633                     87.5  \n",
            "1   0.487227   0.440954  0.487227  0.388658                     87.5  \n"
          ]
        }
      ]
    }
  ],
  "metadata": {
    "colab": {
      "provenance": []
    },
    "kernelspec": {
      "display_name": "Python 3",
      "name": "python3"
    },
    "language_info": {
      "name": "python"
    }
  },
  "nbformat": 4,
  "nbformat_minor": 0
}