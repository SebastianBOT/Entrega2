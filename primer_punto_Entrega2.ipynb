{
  "cells": [
    {
      "cell_type": "markdown",
      "metadata": {
        "id": "tV_qjvMl-1nm"
      },
      "source": [
        "\n",
        "\n",
        "---\n",
        "\n",
        "\n",
        "IMPORTAR DATOS Y ANALIZARLOS\n",
        "\n",
        "\n",
        "---\n",
        "\n"
      ]
    },
    {
      "cell_type": "code",
      "execution_count": null,
      "metadata": {
        "id": "xU71EXqf3Bkq"
      },
      "outputs": [],
      "source": [
        "import pandas as pd"
      ]
    },
    {
      "cell_type": "code",
      "execution_count": null,
      "metadata": {
        "colab": {
          "base_uri": "https://localhost:8080/"
        },
        "id": "TtwBjYzaitZr",
        "outputId": "0980eee9-99d2-44f0-f8a6-57370ed16f2e"
      },
      "outputs": [
        {
          "output_type": "stream",
          "name": "stderr",
          "text": [
            "<ipython-input-152-e0d56cc58248>:1: DtypeWarning: Columns (0,18,20) have mixed types. Specify dtype option on import or set low_memory=False.\n",
            "  df = pd.read_csv('/content/drive/MyDrive/NYPD_Complaint_Data_Historic.csv', skiprows=lambda x: x % 2 != 0)\n"
          ]
        }
      ],
      "source": [
        "df = pd.read_csv('/content/drive/MyDrive/NYPD_Complaint_Data_Historic.csv', skiprows=lambda x: x % 2 != 0)"
      ]
    },
    {
      "cell_type": "code",
      "source": [
        "# Reducción mediante muestreo aleatorio\n",
        "tamaño_objetivo = 1000000\n",
        "if len(df) > tamaño_objetivo:\n",
        "    df = df.sample(n=tamaño_objetivo, random_state=42)"
      ],
      "metadata": {
        "id": "Z5Kj6gCPsWQc"
      },
      "execution_count": null,
      "outputs": []
    },
    {
      "cell_type": "markdown",
      "metadata": {
        "id": "bfPOL_fwHjOC"
      },
      "source": [
        "# Nueva sección"
      ]
    },
    {
      "cell_type": "code",
      "execution_count": null,
      "metadata": {
        "colab": {
          "base_uri": "https://localhost:8080/"
        },
        "id": "FQE-yGObHqAD",
        "outputId": "ecb51b11-7e39-47ca-db9d-366aa677645e"
      },
      "outputs": [
        {
          "output_type": "stream",
          "name": "stdout",
          "text": [
            "Mounted at /content/drive\n"
          ]
        }
      ],
      "source": [
        "from google.colab import drive\n",
        "drive.mount('/content/drive')"
      ]
    },
    {
      "cell_type": "code",
      "source": [
        "df.info()"
      ],
      "metadata": {
        "colab": {
          "base_uri": "https://localhost:8080/"
        },
        "id": "M69wH5hEP-Ze",
        "outputId": "88ad9a3c-d42d-4eee-ccce-79aab4f179b6"
      },
      "execution_count": null,
      "outputs": [
        {
          "output_type": "stream",
          "name": "stdout",
          "text": [
            "<class 'pandas.core.frame.DataFrame'>\n",
            "Int64Index: 1000000 entries, 4093267 to 1446816\n",
            "Data columns (total 35 columns):\n",
            " #   Column             Non-Null Count    Dtype  \n",
            "---  ------             --------------    -----  \n",
            " 0   CMPLNT_NUM         1000000 non-null  object \n",
            " 1   CMPLNT_FR_DT       999911 non-null   object \n",
            " 2   CMPLNT_FR_TM       999993 non-null   object \n",
            " 3   CMPLNT_TO_DT       786670 non-null   object \n",
            " 4   CMPLNT_TO_TM       791928 non-null   object \n",
            " 5   ADDR_PCT_CD        999727 non-null   float64\n",
            " 6   RPT_DT             1000000 non-null  object \n",
            " 7   KY_CD              1000000 non-null  int64  \n",
            " 8   OFNS_DESC          997800 non-null   object \n",
            " 9   PD_CD              999137 non-null   float64\n",
            " 10  PD_DESC            999203 non-null   object \n",
            " 11  CRM_ATPT_CPTD_CD   999977 non-null   object \n",
            " 12  LAW_CAT_CD         1000000 non-null  object \n",
            " 13  BORO_NM            998549 non-null   object \n",
            " 14  LOC_OF_OCCUR_DESC  807011 non-null   object \n",
            " 15  PREM_TYP_DESC      994963 non-null   object \n",
            " 16  JURIS_DESC         1000000 non-null  object \n",
            " 17  JURISDICTION_CODE  999203 non-null   float64\n",
            " 18  PARKS_NM           67366 non-null    object \n",
            " 19  HADEVELOPT         105631 non-null   object \n",
            " 20  HOUSING_PSA        135526 non-null   object \n",
            " 21  X_COORD_CD         997876 non-null   float64\n",
            " 22  Y_COORD_CD         997876 non-null   float64\n",
            " 23  SUSP_AGE_GROUP     415731 non-null   object \n",
            " 24  SUSP_RACE          579310 non-null   object \n",
            " 25  SUSP_SEX           563545 non-null   object \n",
            " 26  TRANSIT_DISTRICT   21918 non-null    float64\n",
            " 27  Latitude           997876 non-null   float64\n",
            " 28  Longitude          997876 non-null   float64\n",
            " 29  Lat_Lon            997876 non-null   object \n",
            " 30  PATROL_BORO        999140 non-null   object \n",
            " 31  STATION_NAME       84253 non-null    object \n",
            " 32  VIC_AGE_GROUP      803657 non-null   object \n",
            " 33  VIC_RACE           999951 non-null   object \n",
            " 34  VIC_SEX            999961 non-null   object \n",
            "dtypes: float64(8), int64(1), object(26)\n",
            "memory usage: 274.7+ MB\n"
          ]
        }
      ]
    },
    {
      "cell_type": "code",
      "execution_count": null,
      "metadata": {
        "colab": {
          "base_uri": "https://localhost:8080/"
        },
        "id": "vxx0F8G96jbA",
        "outputId": "e291d89f-8752-4d20-aacf-07444d83754d"
      },
      "outputs": [
        {
          "output_type": "stream",
          "name": "stdout",
          "text": [
            "Observations:  1000000\n",
            "Variables:  35\n"
          ]
        }
      ],
      "source": [
        "print(\"Observations: \", df.shape[0])\n",
        "print(\"Variables: \", df.shape[1])"
      ]
    },
    {
      "cell_type": "code",
      "execution_count": null,
      "metadata": {
        "colab": {
          "base_uri": "https://localhost:8080/",
          "height": 473
        },
        "id": "__WpWL8i6wd4",
        "outputId": "c911cdda-d5de-408b-9c34-3c897a6fb45a"
      },
      "outputs": [
        {
          "output_type": "execute_result",
          "data": {
            "text/plain": [
              "        CMPLNT_NUM CMPLNT_FR_DT CMPLNT_FR_TM CMPLNT_TO_DT CMPLNT_TO_TM  \\\n",
              "4093267  193505344   04/26/2013     17:00:00   04/26/2013     17:10:00   \n",
              "2447351  935848790   06/26/2013     12:00:00   06/26/2013     12:00:00   \n",
              "63208    242577388   03/24/2022     16:35:00   03/24/2022     16:39:00   \n",
              "3729076  311492419   12/29/2007     00:30:00   12/29/2007     01:00:00   \n",
              "1967399  998353035   07/30/2018     09:00:00   07/30/2018     17:00:00   \n",
              "\n",
              "         ADDR_PCT_CD      RPT_DT  KY_CD                       OFNS_DESC  \\\n",
              "4093267         46.0  04/26/2013    344    ASSAULT 3 & RELATED OFFENSES   \n",
              "2447351         19.0  07/01/2013    340                          FRAUDS   \n",
              "63208           14.0  03/24/2022    113                         FORGERY   \n",
              "3729076         43.0  12/29/2007    347  INTOXICATED & IMPAIRED DRIVING   \n",
              "1967399         20.0  09/06/2018    340                          FRAUDS   \n",
              "\n",
              "         PD_CD  ... SUSP_SEX TRANSIT_DISTRICT   Latitude  Longitude  \\\n",
              "4093267  101.0  ...        M              NaN  40.850999 -73.909899   \n",
              "2447351  718.0  ...      NaN              NaN  40.774630 -73.958098   \n",
              "63208    729.0  ...        M              1.0  40.753533 -73.994537   \n",
              "3729076  905.0  ...      NaN              NaN  40.826284 -73.859704   \n",
              "1967399  718.0  ...      NaN              NaN  40.787985 -73.975705   \n",
              "\n",
              "                                       Lat_Lon            PATROL_BORO  \\\n",
              "4093267          (40.850998555, -73.909899314)      PATROL BORO BRONX   \n",
              "2447351           (40.774629539, -73.95809805)  PATROL BORO MAN NORTH   \n",
              "63208    (40.7535327012632, -73.9945368920152)  PATROL BORO MAN SOUTH   \n",
              "3729076          (40.826284436, -73.859704289)      PATROL BORO BRONX   \n",
              "1967399           (40.78798499, -73.975705172)  PATROL BORO MAN NORTH   \n",
              "\n",
              "        STATION_NAME  VIC_AGE_GROUP        VIC_RACE VIC_SEX  \n",
              "4093267          NaN          45-64  WHITE HISPANIC       F  \n",
              "2447351          NaN            65+           WHITE       F  \n",
              "63208      42 STREET        UNKNOWN         UNKNOWN       E  \n",
              "3729076          NaN            NaN         UNKNOWN       E  \n",
              "1967399          NaN            65+           WHITE       F  \n",
              "\n",
              "[5 rows x 35 columns]"
            ],
            "text/html": [
              "\n",
              "  <div id=\"df-334a6c55-99f2-4a35-8953-4ea2e7c22b7a\">\n",
              "    <div class=\"colab-df-container\">\n",
              "      <div>\n",
              "<style scoped>\n",
              "    .dataframe tbody tr th:only-of-type {\n",
              "        vertical-align: middle;\n",
              "    }\n",
              "\n",
              "    .dataframe tbody tr th {\n",
              "        vertical-align: top;\n",
              "    }\n",
              "\n",
              "    .dataframe thead th {\n",
              "        text-align: right;\n",
              "    }\n",
              "</style>\n",
              "<table border=\"1\" class=\"dataframe\">\n",
              "  <thead>\n",
              "    <tr style=\"text-align: right;\">\n",
              "      <th></th>\n",
              "      <th>CMPLNT_NUM</th>\n",
              "      <th>CMPLNT_FR_DT</th>\n",
              "      <th>CMPLNT_FR_TM</th>\n",
              "      <th>CMPLNT_TO_DT</th>\n",
              "      <th>CMPLNT_TO_TM</th>\n",
              "      <th>ADDR_PCT_CD</th>\n",
              "      <th>RPT_DT</th>\n",
              "      <th>KY_CD</th>\n",
              "      <th>OFNS_DESC</th>\n",
              "      <th>PD_CD</th>\n",
              "      <th>...</th>\n",
              "      <th>SUSP_SEX</th>\n",
              "      <th>TRANSIT_DISTRICT</th>\n",
              "      <th>Latitude</th>\n",
              "      <th>Longitude</th>\n",
              "      <th>Lat_Lon</th>\n",
              "      <th>PATROL_BORO</th>\n",
              "      <th>STATION_NAME</th>\n",
              "      <th>VIC_AGE_GROUP</th>\n",
              "      <th>VIC_RACE</th>\n",
              "      <th>VIC_SEX</th>\n",
              "    </tr>\n",
              "  </thead>\n",
              "  <tbody>\n",
              "    <tr>\n",
              "      <th>4093267</th>\n",
              "      <td>193505344</td>\n",
              "      <td>04/26/2013</td>\n",
              "      <td>17:00:00</td>\n",
              "      <td>04/26/2013</td>\n",
              "      <td>17:10:00</td>\n",
              "      <td>46.0</td>\n",
              "      <td>04/26/2013</td>\n",
              "      <td>344</td>\n",
              "      <td>ASSAULT 3 &amp; RELATED OFFENSES</td>\n",
              "      <td>101.0</td>\n",
              "      <td>...</td>\n",
              "      <td>M</td>\n",
              "      <td>NaN</td>\n",
              "      <td>40.850999</td>\n",
              "      <td>-73.909899</td>\n",
              "      <td>(40.850998555, -73.909899314)</td>\n",
              "      <td>PATROL BORO BRONX</td>\n",
              "      <td>NaN</td>\n",
              "      <td>45-64</td>\n",
              "      <td>WHITE HISPANIC</td>\n",
              "      <td>F</td>\n",
              "    </tr>\n",
              "    <tr>\n",
              "      <th>2447351</th>\n",
              "      <td>935848790</td>\n",
              "      <td>06/26/2013</td>\n",
              "      <td>12:00:00</td>\n",
              "      <td>06/26/2013</td>\n",
              "      <td>12:00:00</td>\n",
              "      <td>19.0</td>\n",
              "      <td>07/01/2013</td>\n",
              "      <td>340</td>\n",
              "      <td>FRAUDS</td>\n",
              "      <td>718.0</td>\n",
              "      <td>...</td>\n",
              "      <td>NaN</td>\n",
              "      <td>NaN</td>\n",
              "      <td>40.774630</td>\n",
              "      <td>-73.958098</td>\n",
              "      <td>(40.774629539, -73.95809805)</td>\n",
              "      <td>PATROL BORO MAN NORTH</td>\n",
              "      <td>NaN</td>\n",
              "      <td>65+</td>\n",
              "      <td>WHITE</td>\n",
              "      <td>F</td>\n",
              "    </tr>\n",
              "    <tr>\n",
              "      <th>63208</th>\n",
              "      <td>242577388</td>\n",
              "      <td>03/24/2022</td>\n",
              "      <td>16:35:00</td>\n",
              "      <td>03/24/2022</td>\n",
              "      <td>16:39:00</td>\n",
              "      <td>14.0</td>\n",
              "      <td>03/24/2022</td>\n",
              "      <td>113</td>\n",
              "      <td>FORGERY</td>\n",
              "      <td>729.0</td>\n",
              "      <td>...</td>\n",
              "      <td>M</td>\n",
              "      <td>1.0</td>\n",
              "      <td>40.753533</td>\n",
              "      <td>-73.994537</td>\n",
              "      <td>(40.7535327012632, -73.9945368920152)</td>\n",
              "      <td>PATROL BORO MAN SOUTH</td>\n",
              "      <td>42 STREET</td>\n",
              "      <td>UNKNOWN</td>\n",
              "      <td>UNKNOWN</td>\n",
              "      <td>E</td>\n",
              "    </tr>\n",
              "    <tr>\n",
              "      <th>3729076</th>\n",
              "      <td>311492419</td>\n",
              "      <td>12/29/2007</td>\n",
              "      <td>00:30:00</td>\n",
              "      <td>12/29/2007</td>\n",
              "      <td>01:00:00</td>\n",
              "      <td>43.0</td>\n",
              "      <td>12/29/2007</td>\n",
              "      <td>347</td>\n",
              "      <td>INTOXICATED &amp; IMPAIRED DRIVING</td>\n",
              "      <td>905.0</td>\n",
              "      <td>...</td>\n",
              "      <td>NaN</td>\n",
              "      <td>NaN</td>\n",
              "      <td>40.826284</td>\n",
              "      <td>-73.859704</td>\n",
              "      <td>(40.826284436, -73.859704289)</td>\n",
              "      <td>PATROL BORO BRONX</td>\n",
              "      <td>NaN</td>\n",
              "      <td>NaN</td>\n",
              "      <td>UNKNOWN</td>\n",
              "      <td>E</td>\n",
              "    </tr>\n",
              "    <tr>\n",
              "      <th>1967399</th>\n",
              "      <td>998353035</td>\n",
              "      <td>07/30/2018</td>\n",
              "      <td>09:00:00</td>\n",
              "      <td>07/30/2018</td>\n",
              "      <td>17:00:00</td>\n",
              "      <td>20.0</td>\n",
              "      <td>09/06/2018</td>\n",
              "      <td>340</td>\n",
              "      <td>FRAUDS</td>\n",
              "      <td>718.0</td>\n",
              "      <td>...</td>\n",
              "      <td>NaN</td>\n",
              "      <td>NaN</td>\n",
              "      <td>40.787985</td>\n",
              "      <td>-73.975705</td>\n",
              "      <td>(40.78798499, -73.975705172)</td>\n",
              "      <td>PATROL BORO MAN NORTH</td>\n",
              "      <td>NaN</td>\n",
              "      <td>65+</td>\n",
              "      <td>WHITE</td>\n",
              "      <td>F</td>\n",
              "    </tr>\n",
              "  </tbody>\n",
              "</table>\n",
              "<p>5 rows × 35 columns</p>\n",
              "</div>\n",
              "      <button class=\"colab-df-convert\" onclick=\"convertToInteractive('df-334a6c55-99f2-4a35-8953-4ea2e7c22b7a')\"\n",
              "              title=\"Convert this dataframe to an interactive table.\"\n",
              "              style=\"display:none;\">\n",
              "        \n",
              "  <svg xmlns=\"http://www.w3.org/2000/svg\" height=\"24px\"viewBox=\"0 0 24 24\"\n",
              "       width=\"24px\">\n",
              "    <path d=\"M0 0h24v24H0V0z\" fill=\"none\"/>\n",
              "    <path d=\"M18.56 5.44l.94 2.06.94-2.06 2.06-.94-2.06-.94-.94-2.06-.94 2.06-2.06.94zm-11 1L8.5 8.5l.94-2.06 2.06-.94-2.06-.94L8.5 2.5l-.94 2.06-2.06.94zm10 10l.94 2.06.94-2.06 2.06-.94-2.06-.94-.94-2.06-.94 2.06-2.06.94z\"/><path d=\"M17.41 7.96l-1.37-1.37c-.4-.4-.92-.59-1.43-.59-.52 0-1.04.2-1.43.59L10.3 9.45l-7.72 7.72c-.78.78-.78 2.05 0 2.83L4 21.41c.39.39.9.59 1.41.59.51 0 1.02-.2 1.41-.59l7.78-7.78 2.81-2.81c.8-.78.8-2.07 0-2.86zM5.41 20L4 18.59l7.72-7.72 1.47 1.35L5.41 20z\"/>\n",
              "  </svg>\n",
              "      </button>\n",
              "      \n",
              "  <style>\n",
              "    .colab-df-container {\n",
              "      display:flex;\n",
              "      flex-wrap:wrap;\n",
              "      gap: 12px;\n",
              "    }\n",
              "\n",
              "    .colab-df-convert {\n",
              "      background-color: #E8F0FE;\n",
              "      border: none;\n",
              "      border-radius: 50%;\n",
              "      cursor: pointer;\n",
              "      display: none;\n",
              "      fill: #1967D2;\n",
              "      height: 32px;\n",
              "      padding: 0 0 0 0;\n",
              "      width: 32px;\n",
              "    }\n",
              "\n",
              "    .colab-df-convert:hover {\n",
              "      background-color: #E2EBFA;\n",
              "      box-shadow: 0px 1px 2px rgba(60, 64, 67, 0.3), 0px 1px 3px 1px rgba(60, 64, 67, 0.15);\n",
              "      fill: #174EA6;\n",
              "    }\n",
              "\n",
              "    [theme=dark] .colab-df-convert {\n",
              "      background-color: #3B4455;\n",
              "      fill: #D2E3FC;\n",
              "    }\n",
              "\n",
              "    [theme=dark] .colab-df-convert:hover {\n",
              "      background-color: #434B5C;\n",
              "      box-shadow: 0px 1px 3px 1px rgba(0, 0, 0, 0.15);\n",
              "      filter: drop-shadow(0px 1px 2px rgba(0, 0, 0, 0.3));\n",
              "      fill: #FFFFFF;\n",
              "    }\n",
              "  </style>\n",
              "\n",
              "      <script>\n",
              "        const buttonEl =\n",
              "          document.querySelector('#df-334a6c55-99f2-4a35-8953-4ea2e7c22b7a button.colab-df-convert');\n",
              "        buttonEl.style.display =\n",
              "          google.colab.kernel.accessAllowed ? 'block' : 'none';\n",
              "\n",
              "        async function convertToInteractive(key) {\n",
              "          const element = document.querySelector('#df-334a6c55-99f2-4a35-8953-4ea2e7c22b7a');\n",
              "          const dataTable =\n",
              "            await google.colab.kernel.invokeFunction('convertToInteractive',\n",
              "                                                     [key], {});\n",
              "          if (!dataTable) return;\n",
              "\n",
              "          const docLinkHtml = 'Like what you see? Visit the ' +\n",
              "            '<a target=\"_blank\" href=https://colab.research.google.com/notebooks/data_table.ipynb>data table notebook</a>'\n",
              "            + ' to learn more about interactive tables.';\n",
              "          element.innerHTML = '';\n",
              "          dataTable['output_type'] = 'display_data';\n",
              "          await google.colab.output.renderOutput(dataTable, element);\n",
              "          const docLink = document.createElement('div');\n",
              "          docLink.innerHTML = docLinkHtml;\n",
              "          element.appendChild(docLink);\n",
              "        }\n",
              "      </script>\n",
              "    </div>\n",
              "  </div>\n",
              "  "
            ]
          },
          "metadata": {},
          "execution_count": 156
        }
      ],
      "source": [
        "df.head()"
      ]
    },
    {
      "cell_type": "code",
      "execution_count": null,
      "metadata": {
        "colab": {
          "base_uri": "https://localhost:8080/"
        },
        "id": "unKmj0Z7-H8g",
        "outputId": "6d1cffdd-05c6-4800-cd30-7aaae4a20e19"
      },
      "outputs": [
        {
          "output_type": "execute_result",
          "data": {
            "text/plain": [
              "TRANSIT_DISTRICT     97.8082\n",
              "PARKS_NM             93.2634\n",
              "STATION_NAME         91.5747\n",
              "HADEVELOPT           89.4369\n",
              "HOUSING_PSA          86.4474\n",
              "SUSP_AGE_GROUP       58.4269\n",
              "SUSP_SEX             43.6455\n",
              "SUSP_RACE            42.0690\n",
              "CMPLNT_TO_DT         21.3330\n",
              "CMPLNT_TO_TM         20.8072\n",
              "VIC_AGE_GROUP        19.6343\n",
              "LOC_OF_OCCUR_DESC    19.2989\n",
              "PREM_TYP_DESC         0.5037\n",
              "OFNS_DESC             0.2200\n",
              "X_COORD_CD            0.2124\n",
              "Lat_Lon               0.2124\n",
              "Latitude              0.2124\n",
              "Longitude             0.2124\n",
              "Y_COORD_CD            0.2124\n",
              "BORO_NM               0.1451\n",
              "PD_CD                 0.0863\n",
              "PATROL_BORO           0.0860\n",
              "PD_DESC               0.0797\n",
              "JURISDICTION_CODE     0.0797\n",
              "ADDR_PCT_CD           0.0273\n",
              "CMPLNT_FR_DT          0.0089\n",
              "VIC_RACE              0.0049\n",
              "VIC_SEX               0.0039\n",
              "CRM_ATPT_CPTD_CD      0.0023\n",
              "CMPLNT_FR_TM          0.0007\n",
              "JURIS_DESC            0.0000\n",
              "LAW_CAT_CD            0.0000\n",
              "KY_CD                 0.0000\n",
              "RPT_DT                0.0000\n",
              "CMPLNT_NUM            0.0000\n",
              "dtype: float64"
            ]
          },
          "metadata": {},
          "execution_count": 157
        }
      ],
      "source": [
        "(df.isna().sum()/df.shape[0]*100).sort_values(ascending=False)"
      ]
    },
    {
      "cell_type": "code",
      "execution_count": null,
      "metadata": {
        "colab": {
          "base_uri": "https://localhost:8080/"
        },
        "id": "lXkJqrjqZp2a",
        "outputId": "8160a743-dacd-462c-cf0d-f9d18b14b25a"
      },
      "outputs": [
        {
          "output_type": "execute_result",
          "data": {
            "text/plain": [
              "MISDEMEANOR    554580\n",
              "FELONY         311221\n",
              "VIOLATION      134199\n",
              "Name: LAW_CAT_CD, dtype: int64"
            ]
          },
          "metadata": {},
          "execution_count": 158
        }
      ],
      "source": [
        "df.LAW_CAT_CD.value_counts().iloc[:10]"
      ]
    },
    {
      "cell_type": "code",
      "execution_count": null,
      "metadata": {
        "id": "Uz40z2mFAKXd"
      },
      "outputs": [],
      "source": [
        "df.drop(['PARKS_NM','STATION_NAME','TRANSIT_DISTRICT','HADEVELOPT','HOUSING_PSA','CMPLNT_FR_DT','CMPLNT_TO_DT','RPT_DT', 'KY_CD', 'PD_CD', 'OFNS_DESC', 'PD_DESC', 'Latitude', 'Longitude', 'Lat_Lon'],axis='columns', inplace=True)"
      ]
    },
    {
      "cell_type": "code",
      "execution_count": null,
      "metadata": {
        "colab": {
          "base_uri": "https://localhost:8080/"
        },
        "id": "QUSbbQK9dH8J",
        "outputId": "31377bbb-3fec-4067-94ea-e34305d5db61"
      },
      "outputs": [
        {
          "output_type": "execute_result",
          "data": {
            "text/plain": [
              "array(['WHITE HISPANIC', nan, 'WHITE', 'UNKNOWN', 'BLACK HISPANIC',\n",
              "       'BLACK', 'ASIAN / PACIFIC ISLANDER', '(null)',\n",
              "       'AMERICAN INDIAN/ALASKAN NATIVE', 'OTHER'], dtype=object)"
            ]
          },
          "metadata": {},
          "execution_count": 160
        }
      ],
      "source": [
        "df.SUSP_RACE.unique()"
      ]
    },
    {
      "cell_type": "code",
      "execution_count": null,
      "metadata": {
        "id": "E1l_knJhaUUq"
      },
      "outputs": [],
      "source": [
        "df.dropna(subset=['VIC_SEX','VIC_RACE', 'SUSP_AGE_GROUP'], inplace=True)"
      ]
    },
    {
      "cell_type": "code",
      "execution_count": null,
      "metadata": {
        "id": "cHw8qDw0s95K",
        "colab": {
          "base_uri": "https://localhost:8080/"
        },
        "outputId": "e9951a70-5704-41c8-d332-f33a2dbf5523"
      },
      "outputs": [
        {
          "output_type": "execute_result",
          "data": {
            "text/plain": [
              "CMPLNT_TO_TM         15.325849\n",
              "LOC_OF_OCCUR_DESC    13.342586\n",
              "VIC_AGE_GROUP         3.687739\n",
              "PREM_TYP_DESC         0.349507\n",
              "BORO_NM               0.144325\n",
              "PATROL_BORO           0.130133\n",
              "JURISDICTION_CODE     0.126044\n",
              "X_COORD_CD            0.091646\n",
              "Y_COORD_CD            0.091646\n",
              "SUSP_SEX              0.056768\n",
              "ADDR_PCT_CD           0.036803\n",
              "CMPLNT_FR_TM          0.000241\n",
              "SUSP_RACE             0.000000\n",
              "VIC_RACE              0.000000\n",
              "CMPLNT_NUM            0.000000\n",
              "SUSP_AGE_GROUP        0.000000\n",
              "JURIS_DESC            0.000000\n",
              "LAW_CAT_CD            0.000000\n",
              "CRM_ATPT_CPTD_CD      0.000000\n",
              "VIC_SEX               0.000000\n",
              "dtype: float64"
            ]
          },
          "metadata": {},
          "execution_count": 162
        }
      ],
      "source": [
        "(df.isna().sum()/df.shape[0]*100).sort_values(ascending=False)"
      ]
    },
    {
      "cell_type": "code",
      "execution_count": null,
      "metadata": {
        "id": "JgrT5hXVtHZZ"
      },
      "outputs": [],
      "source": [
        "df.fillna({'SUSP_SEX':'UNKNOWN'}, inplace=True)\n",
        "df.fillna({'SUSP_RACE':'UNKNOWN'}, inplace=True)\n",
        "df.fillna({'VIC_AGE_GROUP':'UNKNOWN'}, inplace=True)\n",
        "df.fillna({'LOC_OF_OCCUR_DESC':'UNKNOWN'}, inplace=True)\n",
        "df.fillna({'PREM_TYP_DESC':'UNKNOWN'}, inplace=True)\n",
        "df.fillna({'BORO_NM':'UNKNOWN'}, inplace=True)\n",
        "df.fillna({'PATROL_BORO':'UNKNOWN'}, inplace=True)\n",
        "df.fillna({'CRM_ATPT_CPTD_CD':'UNKNOWN'}, inplace=True)"
      ]
    },
    {
      "cell_type": "code",
      "execution_count": null,
      "metadata": {
        "id": "1cnsQqqAwxdA"
      },
      "outputs": [],
      "source": [
        "df_clean = df.replace({'U': 'UNKNOWN', \n",
        "                '(null)': 'UNKNOWN',\n",
        "                'D': 'UNKNOWN',\n",
        "                'E': 'UNKNOWN',\n",
        "                'L': 'UNKNOWN'}).copy()"
      ]
    },
    {
      "cell_type": "code",
      "execution_count": null,
      "metadata": {
        "id": "TQLdKOSu0r9e",
        "colab": {
          "base_uri": "https://localhost:8080/"
        },
        "outputId": "3430a78a-5945-4482-e3e6-b4c06eb67b11"
      },
      "outputs": [
        {
          "output_type": "stream",
          "name": "stdout",
          "text": [
            "Observations:  415729\n",
            "Variables:  20\n"
          ]
        }
      ],
      "source": [
        "print(\"Observations: \", df_clean.shape[0])\n",
        "print(\"Variables: \", df_clean.shape[1])"
      ]
    },
    {
      "cell_type": "code",
      "execution_count": null,
      "metadata": {
        "id": "3k1IThzYwDk5",
        "colab": {
          "base_uri": "https://localhost:8080/"
        },
        "outputId": "6e837ff7-4404-4154-c5a4-63be65f83ac0"
      },
      "outputs": [
        {
          "output_type": "execute_result",
          "data": {
            "text/plain": [
              "MISDEMEANOR    211891\n",
              "FELONY         115108\n",
              "VIOLATION       88730\n",
              "Name: LAW_CAT_CD, dtype: int64"
            ]
          },
          "metadata": {},
          "execution_count": 166
        }
      ],
      "source": [
        "df_clean.LAW_CAT_CD.value_counts().iloc[:10]"
      ]
    },
    {
      "cell_type": "code",
      "source": [
        "#identify all categorical variables\n",
        "cat_columns = df_clean.select_dtypes(['object']).columns\n",
        "\n",
        "#convert all categorical variables to numeric\n",
        "df_clean[cat_columns] = df_clean[cat_columns].apply(lambda x: pd.factorize(x)[0])"
      ],
      "metadata": {
        "id": "mbM0lbL3X55y"
      },
      "execution_count": null,
      "outputs": []
    },
    {
      "cell_type": "code",
      "source": [
        "df_clean.info()"
      ],
      "metadata": {
        "colab": {
          "base_uri": "https://localhost:8080/"
        },
        "id": "qmdmUbIxYGGe",
        "outputId": "e8eb2200-383d-4f30-c6cb-d80471ea9d54"
      },
      "execution_count": null,
      "outputs": [
        {
          "output_type": "stream",
          "name": "stdout",
          "text": [
            "<class 'pandas.core.frame.DataFrame'>\n",
            "Int64Index: 415729 entries, 63208 to 1446816\n",
            "Data columns (total 20 columns):\n",
            " #   Column             Non-Null Count   Dtype  \n",
            "---  ------             --------------   -----  \n",
            " 0   CMPLNT_NUM         415729 non-null  int64  \n",
            " 1   CMPLNT_FR_TM       415729 non-null  int64  \n",
            " 2   CMPLNT_TO_TM       415729 non-null  int64  \n",
            " 3   ADDR_PCT_CD        415576 non-null  float64\n",
            " 4   CRM_ATPT_CPTD_CD   415729 non-null  int64  \n",
            " 5   LAW_CAT_CD         415729 non-null  int64  \n",
            " 6   BORO_NM            415729 non-null  int64  \n",
            " 7   LOC_OF_OCCUR_DESC  415729 non-null  int64  \n",
            " 8   PREM_TYP_DESC      415729 non-null  int64  \n",
            " 9   JURIS_DESC         415729 non-null  int64  \n",
            " 10  JURISDICTION_CODE  415205 non-null  float64\n",
            " 11  X_COORD_CD         415348 non-null  float64\n",
            " 12  Y_COORD_CD         415348 non-null  float64\n",
            " 13  SUSP_AGE_GROUP     415729 non-null  int64  \n",
            " 14  SUSP_RACE          415729 non-null  int64  \n",
            " 15  SUSP_SEX           415729 non-null  int64  \n",
            " 16  PATROL_BORO        415729 non-null  int64  \n",
            " 17  VIC_AGE_GROUP      415729 non-null  int64  \n",
            " 18  VIC_RACE           415729 non-null  int64  \n",
            " 19  VIC_SEX            415729 non-null  int64  \n",
            "dtypes: float64(4), int64(16)\n",
            "memory usage: 66.6 MB\n"
          ]
        }
      ]
    },
    {
      "cell_type": "markdown",
      "metadata": {
        "id": "QTkcx-wlzyKw"
      },
      "source": [
        "\n",
        "\n",
        "---\n",
        "\n",
        "ANALISIS DISCRIMINANTE CUADRATICO\n",
        "\n",
        "---\n",
        "\n"
      ]
    },
    {
      "cell_type": "code",
      "execution_count": null,
      "metadata": {
        "id": "cdYtUDsLz9Lh"
      },
      "outputs": [],
      "source": [
        "from sklearn.discriminant_analysis import QuadraticDiscriminantAnalysis\n",
        "from sklearn.metrics import accuracy_score,confusion_matrix"
      ]
    },
    {
      "cell_type": "code",
      "execution_count": null,
      "metadata": {
        "id": "d2kgirEz0Huu"
      },
      "outputs": [],
      "source": [
        "df_clean.fillna(0, inplace=True)\n",
        "\n",
        "X = df_clean.drop(\"LAW_CAT_CD\", axis=1).values  # características\n",
        "y = df_clean[\"LAW_CAT_CD\"]  # variable objetivo"
      ]
    },
    {
      "cell_type": "code",
      "source": [
        "# Paso 3: Dividir los datos en conjuntos de entrenamiento y prueba\n",
        "X_train, X_test, y_train, y_test = train_test_split(X, y, test_size=0.2, random_state=42)"
      ],
      "metadata": {
        "id": "yVCHpeGdhQCY"
      },
      "execution_count": null,
      "outputs": []
    },
    {
      "cell_type": "code",
      "execution_count": null,
      "metadata": {
        "colab": {
          "base_uri": "https://localhost:8080/"
        },
        "id": "BAjenweF6Jq0",
        "outputId": "ca6e7eb1-8974-41ad-8b15-b05de19c15ca"
      },
      "outputs": [
        {
          "output_type": "execute_result",
          "data": {
            "text/plain": [
              "1    211891\n",
              "0    115108\n",
              "2     88730\n",
              "Name: LAW_CAT_CD, dtype: int64"
            ]
          },
          "metadata": {},
          "execution_count": 176
        }
      ],
      "source": [
        "df_clean.LAW_CAT_CD.value_counts().iloc[:10]"
      ]
    },
    {
      "cell_type": "code",
      "execution_count": null,
      "metadata": {
        "id": "W4pfFiQsNojQ",
        "colab": {
          "base_uri": "https://localhost:8080/",
          "height": 74
        },
        "outputId": "8185e1a9-dd6f-4d39-c0ae-bc4a6f0b05ed"
      },
      "outputs": [
        {
          "output_type": "execute_result",
          "data": {
            "text/plain": [
              "QuadraticDiscriminantAnalysis()"
            ],
            "text/html": [
              "<style>#sk-container-id-4 {color: black;background-color: white;}#sk-container-id-4 pre{padding: 0;}#sk-container-id-4 div.sk-toggleable {background-color: white;}#sk-container-id-4 label.sk-toggleable__label {cursor: pointer;display: block;width: 100%;margin-bottom: 0;padding: 0.3em;box-sizing: border-box;text-align: center;}#sk-container-id-4 label.sk-toggleable__label-arrow:before {content: \"▸\";float: left;margin-right: 0.25em;color: #696969;}#sk-container-id-4 label.sk-toggleable__label-arrow:hover:before {color: black;}#sk-container-id-4 div.sk-estimator:hover label.sk-toggleable__label-arrow:before {color: black;}#sk-container-id-4 div.sk-toggleable__content {max-height: 0;max-width: 0;overflow: hidden;text-align: left;background-color: #f0f8ff;}#sk-container-id-4 div.sk-toggleable__content pre {margin: 0.2em;color: black;border-radius: 0.25em;background-color: #f0f8ff;}#sk-container-id-4 input.sk-toggleable__control:checked~div.sk-toggleable__content {max-height: 200px;max-width: 100%;overflow: auto;}#sk-container-id-4 input.sk-toggleable__control:checked~label.sk-toggleable__label-arrow:before {content: \"▾\";}#sk-container-id-4 div.sk-estimator input.sk-toggleable__control:checked~label.sk-toggleable__label {background-color: #d4ebff;}#sk-container-id-4 div.sk-label input.sk-toggleable__control:checked~label.sk-toggleable__label {background-color: #d4ebff;}#sk-container-id-4 input.sk-hidden--visually {border: 0;clip: rect(1px 1px 1px 1px);clip: rect(1px, 1px, 1px, 1px);height: 1px;margin: -1px;overflow: hidden;padding: 0;position: absolute;width: 1px;}#sk-container-id-4 div.sk-estimator {font-family: monospace;background-color: #f0f8ff;border: 1px dotted black;border-radius: 0.25em;box-sizing: border-box;margin-bottom: 0.5em;}#sk-container-id-4 div.sk-estimator:hover {background-color: #d4ebff;}#sk-container-id-4 div.sk-parallel-item::after {content: \"\";width: 100%;border-bottom: 1px solid gray;flex-grow: 1;}#sk-container-id-4 div.sk-label:hover label.sk-toggleable__label {background-color: #d4ebff;}#sk-container-id-4 div.sk-serial::before {content: \"\";position: absolute;border-left: 1px solid gray;box-sizing: border-box;top: 0;bottom: 0;left: 50%;z-index: 0;}#sk-container-id-4 div.sk-serial {display: flex;flex-direction: column;align-items: center;background-color: white;padding-right: 0.2em;padding-left: 0.2em;position: relative;}#sk-container-id-4 div.sk-item {position: relative;z-index: 1;}#sk-container-id-4 div.sk-parallel {display: flex;align-items: stretch;justify-content: center;background-color: white;position: relative;}#sk-container-id-4 div.sk-item::before, #sk-container-id-4 div.sk-parallel-item::before {content: \"\";position: absolute;border-left: 1px solid gray;box-sizing: border-box;top: 0;bottom: 0;left: 50%;z-index: -1;}#sk-container-id-4 div.sk-parallel-item {display: flex;flex-direction: column;z-index: 1;position: relative;background-color: white;}#sk-container-id-4 div.sk-parallel-item:first-child::after {align-self: flex-end;width: 50%;}#sk-container-id-4 div.sk-parallel-item:last-child::after {align-self: flex-start;width: 50%;}#sk-container-id-4 div.sk-parallel-item:only-child::after {width: 0;}#sk-container-id-4 div.sk-dashed-wrapped {border: 1px dashed gray;margin: 0 0.4em 0.5em 0.4em;box-sizing: border-box;padding-bottom: 0.4em;background-color: white;}#sk-container-id-4 div.sk-label label {font-family: monospace;font-weight: bold;display: inline-block;line-height: 1.2em;}#sk-container-id-4 div.sk-label-container {text-align: center;}#sk-container-id-4 div.sk-container {/* jupyter's `normalize.less` sets `[hidden] { display: none; }` but bootstrap.min.css set `[hidden] { display: none !important; }` so we also need the `!important` here to be able to override the default hidden behavior on the sphinx rendered scikit-learn.org. See: https://github.com/scikit-learn/scikit-learn/issues/21755 */display: inline-block !important;position: relative;}#sk-container-id-4 div.sk-text-repr-fallback {display: none;}</style><div id=\"sk-container-id-4\" class=\"sk-top-container\"><div class=\"sk-text-repr-fallback\"><pre>QuadraticDiscriminantAnalysis()</pre><b>In a Jupyter environment, please rerun this cell to show the HTML representation or trust the notebook. <br />On GitHub, the HTML representation is unable to render, please try loading this page with nbviewer.org.</b></div><div class=\"sk-container\" hidden><div class=\"sk-item\"><div class=\"sk-estimator sk-toggleable\"><input class=\"sk-toggleable__control sk-hidden--visually\" id=\"sk-estimator-id-4\" type=\"checkbox\" checked><label for=\"sk-estimator-id-4\" class=\"sk-toggleable__label sk-toggleable__label-arrow\">QuadraticDiscriminantAnalysis</label><div class=\"sk-toggleable__content\"><pre>QuadraticDiscriminantAnalysis()</pre></div></div></div></div></div>"
            ]
          },
          "metadata": {},
          "execution_count": 177
        }
      ],
      "source": [
        "qda = QuadraticDiscriminantAnalysis()\n",
        "qda.fit(X_train, y_train)"
      ]
    },
    {
      "cell_type": "code",
      "source": [
        "y_pred = qda.predict(X_test)"
      ],
      "metadata": {
        "id": "g6DUWumNZzs6"
      },
      "execution_count": null,
      "outputs": []
    },
    {
      "cell_type": "code",
      "source": [
        "accuracy = accuracy_score(y_test, y_pred)\n",
        "print(\"Exactitud del modelo:\", accuracy)"
      ],
      "metadata": {
        "colab": {
          "base_uri": "https://localhost:8080/"
        },
        "id": "gpK1Xya0aEH2",
        "outputId": "4e5f3a78-7074-4e65-feb7-67a87d348bbe"
      },
      "execution_count": null,
      "outputs": [
        {
          "output_type": "stream",
          "name": "stdout",
          "text": [
            "Exactitud del modelo: 0.42530007456762803\n"
          ]
        }
      ]
    },
    {
      "cell_type": "code",
      "source": [
        "import matplotlib.pyplot as plt\n",
        "unique_classes = np.unique(y_pred)\n",
        "class_counts = np.bincount(y_pred)\n",
        "\n",
        "plt.bar(unique_classes, class_counts)\n",
        "plt.xlabel('Clase')\n",
        "plt.ylabel('Cantidad')\n",
        "plt.title('Predicciones del modelo')\n",
        "plt.show()"
      ],
      "metadata": {
        "colab": {
          "base_uri": "https://localhost:8080/",
          "height": 472
        },
        "id": "yXjzBp-Rf2sH",
        "outputId": "6aecf41e-2ef3-4878-9fc6-537d02be1438"
      },
      "execution_count": null,
      "outputs": [
        {
          "output_type": "display_data",
          "data": {
            "text/plain": [
              "<Figure size 640x480 with 1 Axes>"
            ],
            "image/png": "[encoded data removed]"
          },
          "metadata": {}
        }
      ]
    },
    {
      "cell_type": "code",
      "source": [
        "import seaborn as sns\n",
        "confusion = confusion_matrix(y_test, y_pred)\n",
        "\n",
        "# Paso 8: Visualizar la matriz de confusión\n",
        "plt.figure(figsize=(8, 6))\n",
        "sns.heatmap(confusion, annot=True, fmt='d', cmap='Blues')\n",
        "plt.xlabel('Predicciones')\n",
        "plt.ylabel('Valores reales')\n",
        "plt.title('Matriz de confusión')\n",
        "plt.show()"
      ],
      "metadata": {
        "colab": {
          "base_uri": "https://localhost:8080/",
          "height": 564
        },
        "id": "7LBX9388jt0p",
        "outputId": "a20ba47d-3520-4176-b1f4-a63e2f4b9284"
      },
      "execution_count": null,
      "outputs": [
        {
          "output_type": "display_data",
          "data": {
            "text/plain": [
              "<Figure size 800x600 with 2 Axes>"
            ],
            "image/png": "[encoded data removed]"
          },
          "metadata": {}
        }
      ]
    },
    {
      "cell_type": "markdown",
      "metadata": {
        "id": "UKGcBizd9zVi"
      },
      "source": [
        "ventana de parzen"
      ]
    },
    {
      "cell_type": "code",
      "source": [
        "from scipy.stats import multivariate_normal\n",
        "from sklearn.metrics import accuracy_score\n",
        "\n",
        "def kernel_density(x, mean, h):\n",
        "    kde = multivariate_normal(mean=mean, cov=h)\n",
        "    return kde.pdf(x)\n",
        "\n",
        "def parzen_window(X_train, y_train, X_test, h):\n",
        "    predictions = []\n",
        "    unique_labels = np.unique(y_train)\n",
        "    for x_test in X_test:\n",
        "        class_probs = []\n",
        "        for label in unique_labels:\n",
        "            class_samples = X_train[y_train == label]\n",
        "            class_mean = np.mean(class_samples, axis=0)\n",
        "            class_prob = np.mean(kernel_density(x_test, class_mean, h))\n",
        "            class_probs.append((label, class_prob))\n",
        "        predicted_label = max(class_probs, key=lambda x: x[1])[0]\n",
        "        predictions.append(predicted_label)\n",
        "    return predictions\n",
        "\n",
        "# Paso 1: Importar los datos\n",
        "X = df_clean.drop(\"LAW_CAT_CD\", axis=1).values\n",
        "y = df_clean[\"LAW_CAT_CD\"].values\n"
      ],
      "metadata": {
        "id": "lZQ_dx1fYjlB"
      },
      "execution_count": null,
      "outputs": []
    },
    {
      "cell_type": "code",
      "source": [
        "from sklearn.model_selection import train_test_split\n",
        "import numpy as np\n",
        "\n",
        "# Paso 2: Dividir los datos en conjuntos de entrenamiento y prueba (opcional)\n",
        "X_train, X_test, y_train, y_test = train_test_split(X, y, test_size=0.2, random_state=42)"
      ],
      "metadata": {
        "id": "XAmU6RS0ZV5-"
      },
      "execution_count": null,
      "outputs": []
    },
    {
      "cell_type": "code",
      "source": [
        "# Paso 3: Definir el ancho de la ventana\n",
        "h = np.eye(X_train.shape[1]) * 0.1  # Matriz de covarianza diagonal con ancho de ventana 0.1\n",
        "print(h)"
      ],
      "metadata": {
        "colab": {
          "base_uri": "https://localhost:8080/"
        },
        "id": "T5-iA1RPoLaB",
        "outputId": "1240d510-3c43-4528-8c95-a09bc518d1d4"
      },
      "execution_count": null,
      "outputs": [
        {
          "output_type": "stream",
          "name": "stdout",
          "text": [
            "[[0.1 0.  0.  0.  0.  0.  0.  0.  0.  0.  0.  0.  0.  0.  0.  0.  0.  0.\n",
            "  0. ]\n",
            " [0.  0.1 0.  0.  0.  0.  0.  0.  0.  0.  0.  0.  0.  0.  0.  0.  0.  0.\n",
            "  0. ]\n",
            " [0.  0.  0.1 0.  0.  0.  0.  0.  0.  0.  0.  0.  0.  0.  0.  0.  0.  0.\n",
            "  0. ]\n",
            " [0.  0.  0.  0.1 0.  0.  0.  0.  0.  0.  0.  0.  0.  0.  0.  0.  0.  0.\n",
            "  0. ]\n",
            " [0.  0.  0.  0.  0.1 0.  0.  0.  0.  0.  0.  0.  0.  0.  0.  0.  0.  0.\n",
            "  0. ]\n",
            " [0.  0.  0.  0.  0.  0.1 0.  0.  0.  0.  0.  0.  0.  0.  0.  0.  0.  0.\n",
            "  0. ]\n",
            " [0.  0.  0.  0.  0.  0.  0.1 0.  0.  0.  0.  0.  0.  0.  0.  0.  0.  0.\n",
            "  0. ]\n",
            " [0.  0.  0.  0.  0.  0.  0.  0.1 0.  0.  0.  0.  0.  0.  0.  0.  0.  0.\n",
            "  0. ]\n",
            " [0.  0.  0.  0.  0.  0.  0.  0.  0.1 0.  0.  0.  0.  0.  0.  0.  0.  0.\n",
            "  0. ]\n",
            " [0.  0.  0.  0.  0.  0.  0.  0.  0.  0.1 0.  0.  0.  0.  0.  0.  0.  0.\n",
            "  0. ]\n",
            " [0.  0.  0.  0.  0.  0.  0.  0.  0.  0.  0.1 0.  0.  0.  0.  0.  0.  0.\n",
            "  0. ]\n",
            " [0.  0.  0.  0.  0.  0.  0.  0.  0.  0.  0.  0.1 0.  0.  0.  0.  0.  0.\n",
            "  0. ]\n",
            " [0.  0.  0.  0.  0.  0.  0.  0.  0.  0.  0.  0.  0.1 0.  0.  0.  0.  0.\n",
            "  0. ]\n",
            " [0.  0.  0.  0.  0.  0.  0.  0.  0.  0.  0.  0.  0.  0.1 0.  0.  0.  0.\n",
            "  0. ]\n",
            " [0.  0.  0.  0.  0.  0.  0.  0.  0.  0.  0.  0.  0.  0.  0.1 0.  0.  0.\n",
            "  0. ]\n",
            " [0.  0.  0.  0.  0.  0.  0.  0.  0.  0.  0.  0.  0.  0.  0.  0.1 0.  0.\n",
            "  0. ]\n",
            " [0.  0.  0.  0.  0.  0.  0.  0.  0.  0.  0.  0.  0.  0.  0.  0.  0.1 0.\n",
            "  0. ]\n",
            " [0.  0.  0.  0.  0.  0.  0.  0.  0.  0.  0.  0.  0.  0.  0.  0.  0.  0.1\n",
            "  0. ]\n",
            " [0.  0.  0.  0.  0.  0.  0.  0.  0.  0.  0.  0.  0.  0.  0.  0.  0.  0.\n",
            "  0.1]]\n"
          ]
        }
      ]
    },
    {
      "cell_type": "code",
      "source": [
        "\n",
        "# Paso 4: Aplicar el método de Ventana de Parzen\n",
        "predictions = parzen_window(X_train, y_train, X_test, h)  # Si se dividen los datos en conjuntos de entrenamiento y prueba\n",
        "\n",
        "# Paso 5: Evaluar el rendimiento del modelo\n",
        "accuracy = accuracy_score(y_test, predictions)  # Si se dividen los datos en conjuntos de entrenamiento y prueba\n",
        "\n",
        "print(\"Exactitud del modelo:\", accuracy)"
      ],
      "metadata": {
        "colab": {
          "base_uri": "https://localhost:8080/"
        },
        "id": "uIIkZtL9aMdw",
        "outputId": "70e2f783-1c82-4da2-918c-5d94c88696ea"
      },
      "execution_count": null,
      "outputs": [
        {
          "output_type": "stream",
          "name": "stdout",
          "text": [
            "Exactitud del modelo: 0.2791234695595699\n"
          ]
        }
      ]
    },
    {
      "cell_type": "markdown",
      "source": [
        "GradientBoosting"
      ],
      "metadata": {
        "id": "BU9C0eEGbcvI"
      }
    },
    {
      "cell_type": "code",
      "source": [
        "from sklearn.ensemble import GradientBoostingClassifier\n",
        "from sklearn.model_selection import train_test_split\n",
        "from sklearn.metrics import accuracy_score\n",
        "\n",
        "# Paso 1: Importar los datos\n",
        "X = df_clean.drop(\"LAW_CAT_CD\", axis=1).values\n",
        "y = df_clean[\"LAW_CAT_CD\"].values\n"
      ],
      "metadata": {
        "id": "1JhpHQDeb2Kb"
      },
      "execution_count": null,
      "outputs": []
    },
    {
      "cell_type": "code",
      "source": [
        "# Paso 2: Dividir los datos en conjuntos de entrenamiento y prueba\n",
        "X_train, X_test, y_train, y_test = train_test_split(X, y, test_size=0.2, random_state=42)"
      ],
      "metadata": {
        "id": "u2gL7Q8CdDQO"
      },
      "execution_count": null,
      "outputs": []
    },
    {
      "cell_type": "code",
      "source": [
        "# Paso 3: Definir el modelo de Gradient Boosting Tree\n",
        "model = GradientBoostingClassifier()"
      ],
      "metadata": {
        "id": "wsHQ493cdMHJ"
      },
      "execution_count": null,
      "outputs": []
    },
    {
      "cell_type": "code",
      "source": [
        "# Paso 4: Entrenar el modelo\n",
        "model.fit(X_train, y_train)"
      ],
      "metadata": {
        "colab": {
          "base_uri": "https://localhost:8080/",
          "height": 74
        },
        "id": "Dy-yjEMKdQLR",
        "outputId": "92af14e1-6f61-40bc-d526-cbf3f0528028"
      },
      "execution_count": null,
      "outputs": [
        {
          "output_type": "execute_result",
          "data": {
            "text/plain": [
              "GradientBoostingClassifier()"
            ],
            "text/html": [
              "<style>#sk-container-id-7 {color: black;background-color: white;}#sk-container-id-7 pre{padding: 0;}#sk-container-id-7 div.sk-toggleable {background-color: white;}#sk-container-id-7 label.sk-toggleable__label {cursor: pointer;display: block;width: 100%;margin-bottom: 0;padding: 0.3em;box-sizing: border-box;text-align: center;}#sk-container-id-7 label.sk-toggleable__label-arrow:before {content: \"▸\";float: left;margin-right: 0.25em;color: #696969;}#sk-container-id-7 label.sk-toggleable__label-arrow:hover:before {color: black;}#sk-container-id-7 div.sk-estimator:hover label.sk-toggleable__label-arrow:before {color: black;}#sk-container-id-7 div.sk-toggleable__content {max-height: 0;max-width: 0;overflow: hidden;text-align: left;background-color: #f0f8ff;}#sk-container-id-7 div.sk-toggleable__content pre {margin: 0.2em;color: black;border-radius: 0.25em;background-color: #f0f8ff;}#sk-container-id-7 input.sk-toggleable__control:checked~div.sk-toggleable__content {max-height: 200px;max-width: 100%;overflow: auto;}#sk-container-id-7 input.sk-toggleable__control:checked~label.sk-toggleable__label-arrow:before {content: \"▾\";}#sk-container-id-7 div.sk-estimator input.sk-toggleable__control:checked~label.sk-toggleable__label {background-color: #d4ebff;}#sk-container-id-7 div.sk-label input.sk-toggleable__control:checked~label.sk-toggleable__label {background-color: #d4ebff;}#sk-container-id-7 input.sk-hidden--visually {border: 0;clip: rect(1px 1px 1px 1px);clip: rect(1px, 1px, 1px, 1px);height: 1px;margin: -1px;overflow: hidden;padding: 0;position: absolute;width: 1px;}#sk-container-id-7 div.sk-estimator {font-family: monospace;background-color: #f0f8ff;border: 1px dotted black;border-radius: 0.25em;box-sizing: border-box;margin-bottom: 0.5em;}#sk-container-id-7 div.sk-estimator:hover {background-color: #d4ebff;}#sk-container-id-7 div.sk-parallel-item::after {content: \"\";width: 100%;border-bottom: 1px solid gray;flex-grow: 1;}#sk-container-id-7 div.sk-label:hover label.sk-toggleable__label {background-color: #d4ebff;}#sk-container-id-7 div.sk-serial::before {content: \"\";position: absolute;border-left: 1px solid gray;box-sizing: border-box;top: 0;bottom: 0;left: 50%;z-index: 0;}#sk-container-id-7 div.sk-serial {display: flex;flex-direction: column;align-items: center;background-color: white;padding-right: 0.2em;padding-left: 0.2em;position: relative;}#sk-container-id-7 div.sk-item {position: relative;z-index: 1;}#sk-container-id-7 div.sk-parallel {display: flex;align-items: stretch;justify-content: center;background-color: white;position: relative;}#sk-container-id-7 div.sk-item::before, #sk-container-id-7 div.sk-parallel-item::before {content: \"\";position: absolute;border-left: 1px solid gray;box-sizing: border-box;top: 0;bottom: 0;left: 50%;z-index: -1;}#sk-container-id-7 div.sk-parallel-item {display: flex;flex-direction: column;z-index: 1;position: relative;background-color: white;}#sk-container-id-7 div.sk-parallel-item:first-child::after {align-self: flex-end;width: 50%;}#sk-container-id-7 div.sk-parallel-item:last-child::after {align-self: flex-start;width: 50%;}#sk-container-id-7 div.sk-parallel-item:only-child::after {width: 0;}#sk-container-id-7 div.sk-dashed-wrapped {border: 1px dashed gray;margin: 0 0.4em 0.5em 0.4em;box-sizing: border-box;padding-bottom: 0.4em;background-color: white;}#sk-container-id-7 div.sk-label label {font-family: monospace;font-weight: bold;display: inline-block;line-height: 1.2em;}#sk-container-id-7 div.sk-label-container {text-align: center;}#sk-container-id-7 div.sk-container {/* jupyter's `normalize.less` sets `[hidden] { display: none; }` but bootstrap.min.css set `[hidden] { display: none !important; }` so we also need the `!important` here to be able to override the default hidden behavior on the sphinx rendered scikit-learn.org. See: https://github.com/scikit-learn/scikit-learn/issues/21755 */display: inline-block !important;position: relative;}#sk-container-id-7 div.sk-text-repr-fallback {display: none;}</style><div id=\"sk-container-id-7\" class=\"sk-top-container\"><div class=\"sk-text-repr-fallback\"><pre>GradientBoostingClassifier()</pre><b>In a Jupyter environment, please rerun this cell to show the HTML representation or trust the notebook. <br />On GitHub, the HTML representation is unable to render, please try loading this page with nbviewer.org.</b></div><div class=\"sk-container\" hidden><div class=\"sk-item\"><div class=\"sk-estimator sk-toggleable\"><input class=\"sk-toggleable__control sk-hidden--visually\" id=\"sk-estimator-id-7\" type=\"checkbox\" checked><label for=\"sk-estimator-id-7\" class=\"sk-toggleable__label sk-toggleable__label-arrow\">GradientBoostingClassifier</label><div class=\"sk-toggleable__content\"><pre>GradientBoostingClassifier()</pre></div></div></div></div></div>"
            ]
          },
          "metadata": {},
          "execution_count": 211
        }
      ]
    },
    {
      "cell_type": "code",
      "source": [
        "# Paso 5: Realizar predicciones en el conjunto de prueba\n",
        "predictions = model.predict(X_test)\n",
        "\n",
        "# Paso 6: Evaluar el rendimiento del modelo\n",
        "accuracy = accuracy_score(y_test, predictions)\n",
        "print(\"Exactitud del modelo:\", accuracy)"
      ],
      "metadata": {
        "colab": {
          "base_uri": "https://localhost:8080/"
        },
        "id": "FPBg09XldTa3",
        "outputId": "5543a92c-e68b-4273-c403-97fb8f7c7c33"
      },
      "execution_count": null,
      "outputs": [
        {
          "output_type": "stream",
          "name": "stdout",
          "text": [
            "Exactitud del modelo: 0.5320039448680635\n"
          ]
        }
      ]
    },
    {
      "cell_type": "code",
      "source": [
        "import seaborn as sns\n",
        "confusion = confusion_matrix(y_test, predictions)\n",
        "\n",
        "# Paso 8: Visualizar la matriz de confusión\n",
        "plt.figure(figsize=(8, 6))\n",
        "sns.heatmap(confusion, annot=True, fmt='d', cmap='Blues')\n",
        "plt.xlabel('Predicciones')\n",
        "plt.ylabel('Valores reales')\n",
        "plt.title('Matriz de confusión')\n",
        "plt.show()"
      ],
      "metadata": {
        "colab": {
          "base_uri": "https://localhost:8080/",
          "height": 564
        },
        "id": "ORKXDLu-bs4j",
        "outputId": "aa1dbc28-366f-4b7a-f055-5cdb9a288bef"
      },
      "execution_count": null,
      "outputs": [
        {
          "output_type": "display_data",
          "data": {
            "text/plain": [
              "<Figure size 800x600 with 2 Axes>"
            ],
            "image/png": "[encoded data removed]"
          },
          "metadata": {}
        }
      ]
    },
    {
      "cell_type": "markdown",
      "source": [
        "redes neuronales"
      ],
      "metadata": {
        "id": "PGYQYWI5dXMH"
      }
    },
    {
      "cell_type": "code",
      "source": [
        "import numpy as np\n",
        "import pandas as pd\n",
        "from sklearn.model_selection import train_test_split\n",
        "from sklearn.preprocessing import LabelEncoder\n",
        "from keras.models import Sequential\n",
        "from keras.layers import Dense\n",
        "from keras.utils import np_utils\n",
        "from sklearn.metrics import accuracy_score\n",
        "\n",
        "# Paso 1: Importar los datos\n",
        "# Paso 1: Importar los datos\n",
        "X = df_clean.drop(\"LAW_CAT_CD\", axis=1).values\n",
        "y = df_clean[\"LAW_CAT_CD\"].values"
      ],
      "metadata": {
        "id": "2CvH4gzIdbLv"
      },
      "execution_count": null,
      "outputs": []
    },
    {
      "cell_type": "code",
      "source": [
        "# Paso 2: Codificar las etiquetas de salida\n",
        "label_encoder = LabelEncoder()\n",
        "y_encoded = label_encoder.fit_transform(y)\n",
        "y_one_hot = np_utils.to_categorical(y_encoded)"
      ],
      "metadata": {
        "id": "WeHmeroqeCln"
      },
      "execution_count": null,
      "outputs": []
    },
    {
      "cell_type": "code",
      "source": [
        "# Paso 3: Dividir los datos en conjuntos de entrenamiento y prueba\n",
        "X_train, X_test, y_train, y_test = train_test_split(X, y_one_hot, test_size=0.2, random_state=42)"
      ],
      "metadata": {
        "id": "LgzBB-9-eLEH"
      },
      "execution_count": null,
      "outputs": []
    },
    {
      "cell_type": "code",
      "source": [
        "# Paso 4: Definir la arquitectura de la red neuronal\n",
        "model = Sequential()\n",
        "model.add(Dense(64, input_dim=19, activation='relu'))\n",
        "model.add(Dense(32, activation='relu'))\n",
        "model.add(Dense(y_one_hot.shape[1], activation='softmax'))\n"
      ],
      "metadata": {
        "id": "nRh8xDdReOUf"
      },
      "execution_count": null,
      "outputs": []
    },
    {
      "cell_type": "code",
      "source": [
        "# Paso 5: Compilar el modelo\n",
        "model.compile(loss='categorical_crossentropy', optimizer='adam', metrics=['accuracy'])"
      ],
      "metadata": {
        "id": "Fq5MWzsleVrY"
      },
      "execution_count": null,
      "outputs": []
    },
    {
      "cell_type": "code",
      "source": [
        "# Paso 6: Entrenar la red neuronal\n",
        "model.fit(X_train, y_train, epochs=10, batch_size=32, verbose=1)"
      ],
      "metadata": {
        "id": "tLYAfedbeZZK",
        "colab": {
          "base_uri": "https://localhost:8080/"
        },
        "outputId": "d3dc5e0f-10f6-4683-bb59-f257fdcbfa76"
      },
      "execution_count": null,
      "outputs": [
        {
          "output_type": "stream",
          "name": "stdout",
          "text": [
            "Epoch 1/10\n",
            "10394/10394 [==============================] - 20s 2ms/step - loss: 1046.7356 - accuracy: 0.3857\n",
            "Epoch 2/10\n",
            "10394/10394 [==============================] - 20s 2ms/step - loss: 281.6111 - accuracy: 0.3853\n",
            "Epoch 3/10\n",
            "10394/10394 [==============================] - 19s 2ms/step - loss: 95.0996 - accuracy: 0.3859\n",
            "Epoch 4/10\n",
            "10394/10394 [==============================] - 20s 2ms/step - loss: 10.4742 - accuracy: 0.4318\n",
            "Epoch 5/10\n",
            "10394/10394 [==============================] - 19s 2ms/step - loss: 1.0284 - accuracy: 0.5102\n",
            "Epoch 6/10\n",
            "10394/10394 [==============================] - 19s 2ms/step - loss: 1.0391 - accuracy: 0.5101\n",
            "Epoch 7/10\n",
            "10394/10394 [==============================] - 20s 2ms/step - loss: 1.0434 - accuracy: 0.5102\n",
            "Epoch 8/10\n",
            "10394/10394 [==============================] - 19s 2ms/step - loss: 1.0284 - accuracy: 0.5103\n",
            "Epoch 9/10\n",
            "10394/10394 [==============================] - 19s 2ms/step - loss: 1.0284 - accuracy: 0.5103\n",
            "Epoch 10/10\n",
            "10394/10394 [==============================] - 20s 2ms/step - loss: 1.0284 - accuracy: 0.5103\n"
          ]
        },
        {
          "output_type": "execute_result",
          "data": {
            "text/plain": [
              "<keras.callbacks.History at 0x7f4534197c40>"
            ]
          },
          "metadata": {},
          "execution_count": 219
        }
      ]
    },
    {
      "cell_type": "code",
      "source": [
        "# Paso 7: Realizar predicciones en el conjunto de prueba\n",
        "y_pred = model.predict(X_test)\n",
        "y_pred_labels = np.argmax(y_pred, axis=1)\n",
        "y_test_labels = np.argmax(y_test, axis=1)\n",
        "\n",
        "# Paso 8: Evaluar el rendimiento del modelo\n",
        "accuracy = accuracy_score(y_test_labels, y_pred_labels)\n",
        "print(\"Exactitud del modelo:\", accuracy)"
      ],
      "metadata": {
        "id": "PvcyBzUaef2O",
        "colab": {
          "base_uri": "https://localhost:8080/"
        },
        "outputId": "757708ee-b743-41b4-9896-beb6ace6cc4a"
      },
      "execution_count": null,
      "outputs": [
        {
          "output_type": "stream",
          "name": "stdout",
          "text": [
            "2599/2599 [==============================] - 4s 1ms/step\n",
            "Exactitud del modelo: 0.5073846005821085\n"
          ]
        }
      ]
    },
    {
      "cell_type": "code",
      "source": [
        "import seaborn as sns\n",
        "confusion = confusion_matrix(y_test_labels, y_pred_labels)\n",
        "\n",
        "# Paso 8: Visualizar la matriz de confusión\n",
        "plt.figure(figsize=(8, 6))\n",
        "sns.heatmap(confusion, annot=True, fmt='d', cmap='Blues')\n",
        "plt.xlabel('Predicciones')\n",
        "plt.ylabel('Valores reales')\n",
        "plt.title('Matriz de confusión')\n",
        "plt.show()"
      ],
      "metadata": {
        "colab": {
          "base_uri": "https://localhost:8080/",
          "height": 564
        },
        "id": "ND5wx1JxT4Wp",
        "outputId": "e5d0c40d-44bc-4b72-8129-b2e2ff83c88e"
      },
      "execution_count": null,
      "outputs": [
        {
          "output_type": "display_data",
          "data": {
            "text/plain": [
              "<Figure size 800x600 with 2 Axes>"
            ],
            "image/png": "[encoded data removed]"
          },
          "metadata": {}
        }
      ]
    },
    {
      "cell_type": "markdown",
      "source": [
        "Regresión por Vectores de Soporte"
      ],
      "metadata": {
        "id": "wjk-QVrwejZZ"
      }
    },
    {
      "cell_type": "code",
      "source": [
        "import pandas as pd\n",
        "from sklearn.svm import SVC\n",
        "from sklearn.model_selection import train_test_split\n",
        "from sklearn.metrics import accuracy_score\n",
        "\n",
        "\n",
        "\n",
        "X = df_clean.drop(\"LAW_CAT_CD\", axis=1).values\n",
        "y = df_clean[\"LAW_CAT_CD\"].values"
      ],
      "metadata": {
        "id": "T_2Qmb7Ken9y"
      },
      "execution_count": null,
      "outputs": []
    },
    {
      "cell_type": "code",
      "source": [
        "# Paso 3: Dividir los datos en conjuntos de entrenamiento y prueba\n",
        "X_train, X_test, y_train, y_test = train_test_split(X, y, test_size=0.2, random_state=42)"
      ],
      "metadata": {
        "id": "LoeAov1TeucL"
      },
      "execution_count": null,
      "outputs": []
    },
    {
      "cell_type": "code",
      "source": [
        "# Paso 4: Crear y ajustar el modelo SVM\n",
        "svm = SVC()\n",
        "svm.fit(X_train, y_train)"
      ],
      "metadata": {
        "id": "Q4kSiY1iey6z"
      },
      "execution_count": null,
      "outputs": []
    },
    {
      "cell_type": "code",
      "source": [
        "# Paso 5: Realizar predicciones en el conjunto de prueba\n",
        "y_pred = svm.predict(X_test)\n",
        "\n",
        "# Paso 6: Evaluar el rendimiento del modelo\n",
        "accuracy = accuracy_score(y_test, y_pred)\n",
        "print(\"Exactitud del modelo:\", accuracy)"
      ],
      "metadata": {
        "id": "d1WlpGAWe146"
      },
      "execution_count": null,
      "outputs": []
    }
  ],
  "metadata": {
    "colab": {
      "provenance": []
    },
    "kernelspec": {
      "display_name": "Python 3",
      "name": "python3"
    },
    "language_info": {
      "name": "python"
    }
  },
  "nbformat": 4,
  "nbformat_minor": 0
}